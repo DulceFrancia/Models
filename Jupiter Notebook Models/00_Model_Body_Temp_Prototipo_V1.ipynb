{
  "nbformat": 4,
  "nbformat_minor": 0,
  "metadata": {
    "colab": {
      "provenance": [],
      "gpuType": "T4"
    },
    "kernelspec": {
      "name": "python3",
      "display_name": "Python 3"
    },
    "language_info": {
      "name": "python"
    },
    "accelerator": "GPU"
  },
  "cells": [
    {
      "cell_type": "code",
      "execution_count": 1,
      "metadata": {
        "id": "atOgjiYUIBHs"
      },
      "outputs": [],
      "source": [
        "# Import Statements\n",
        "import torch\n",
        "from torch import nn\n",
        "import matplotlib.pyplot as plt\n",
        "import numpy as np"
      ]
    },
    {
      "cell_type": "markdown",
      "source": [
        "## 1. Visualizing data"
      ],
      "metadata": {
        "id": "A6gzOqWRIcLb"
      }
    },
    {
      "cell_type": "code",
      "source": [
        "import pandas as pd\n",
        "df=pd.read_csv(\"datos_df_bt.csv\")\n",
        "print(df.head())"
      ],
      "metadata": {
        "colab": {
          "base_uri": "https://localhost:8080/"
        },
        "id": "f0jC4sRYIl_x",
        "outputId": "22acfb63-25b8-422c-e096-4f2bb0607404"
      },
      "execution_count": 2,
      "outputs": [
        {
          "output_type": "stream",
          "name": "stdout",
          "text": [
            "   Index  Body Temp\n",
            "0      1     26.285\n",
            "1      2     26.285\n",
            "2      3     26.270\n",
            "3      4     26.260\n",
            "4      5     26.245\n"
          ]
        }
      ]
    },
    {
      "cell_type": "code",
      "source": [
        "df"
      ],
      "metadata": {
        "colab": {
          "base_uri": "https://localhost:8080/",
          "height": 419
        },
        "id": "wVs5tzEfMp68",
        "outputId": "afbe73dc-55a6-4f97-8c6d-7ae2231eba2f"
      },
      "execution_count": 3,
      "outputs": [
        {
          "output_type": "execute_result",
          "data": {
            "text/plain": [
              "     Index  Body Temp\n",
              "0        1     26.285\n",
              "1        2     26.285\n",
              "2        3     26.270\n",
              "3        4     26.260\n",
              "4        5     26.245\n",
              "..     ...        ...\n",
              "195    196     31.076\n",
              "196    197     34.315\n",
              "197    198     32.831\n",
              "198    199     31.581\n",
              "199    200     30.892\n",
              "\n",
              "[200 rows x 2 columns]"
            ],
            "text/html": [
              "\n",
              "  <div id=\"df-c0d10067-6b09-4510-b73a-079d86269920\" class=\"colab-df-container\">\n",
              "    <div>\n",
              "<style scoped>\n",
              "    .dataframe tbody tr th:only-of-type {\n",
              "        vertical-align: middle;\n",
              "    }\n",
              "\n",
              "    .dataframe tbody tr th {\n",
              "        vertical-align: top;\n",
              "    }\n",
              "\n",
              "    .dataframe thead th {\n",
              "        text-align: right;\n",
              "    }\n",
              "</style>\n",
              "<table border=\"1\" class=\"dataframe\">\n",
              "  <thead>\n",
              "    <tr style=\"text-align: right;\">\n",
              "      <th></th>\n",
              "      <th>Index</th>\n",
              "      <th>Body Temp</th>\n",
              "    </tr>\n",
              "  </thead>\n",
              "  <tbody>\n",
              "    <tr>\n",
              "      <th>0</th>\n",
              "      <td>1</td>\n",
              "      <td>26.285</td>\n",
              "    </tr>\n",
              "    <tr>\n",
              "      <th>1</th>\n",
              "      <td>2</td>\n",
              "      <td>26.285</td>\n",
              "    </tr>\n",
              "    <tr>\n",
              "      <th>2</th>\n",
              "      <td>3</td>\n",
              "      <td>26.270</td>\n",
              "    </tr>\n",
              "    <tr>\n",
              "      <th>3</th>\n",
              "      <td>4</td>\n",
              "      <td>26.260</td>\n",
              "    </tr>\n",
              "    <tr>\n",
              "      <th>4</th>\n",
              "      <td>5</td>\n",
              "      <td>26.245</td>\n",
              "    </tr>\n",
              "    <tr>\n",
              "      <th>...</th>\n",
              "      <td>...</td>\n",
              "      <td>...</td>\n",
              "    </tr>\n",
              "    <tr>\n",
              "      <th>195</th>\n",
              "      <td>196</td>\n",
              "      <td>31.076</td>\n",
              "    </tr>\n",
              "    <tr>\n",
              "      <th>196</th>\n",
              "      <td>197</td>\n",
              "      <td>34.315</td>\n",
              "    </tr>\n",
              "    <tr>\n",
              "      <th>197</th>\n",
              "      <td>198</td>\n",
              "      <td>32.831</td>\n",
              "    </tr>\n",
              "    <tr>\n",
              "      <th>198</th>\n",
              "      <td>199</td>\n",
              "      <td>31.581</td>\n",
              "    </tr>\n",
              "    <tr>\n",
              "      <th>199</th>\n",
              "      <td>200</td>\n",
              "      <td>30.892</td>\n",
              "    </tr>\n",
              "  </tbody>\n",
              "</table>\n",
              "<p>200 rows × 2 columns</p>\n",
              "</div>\n",
              "    <div class=\"colab-df-buttons\">\n",
              "\n",
              "  <div class=\"colab-df-container\">\n",
              "    <button class=\"colab-df-convert\" onclick=\"convertToInteractive('df-c0d10067-6b09-4510-b73a-079d86269920')\"\n",
              "            title=\"Convert this dataframe to an interactive table.\"\n",
              "            style=\"display:none;\">\n",
              "\n",
              "  <svg xmlns=\"http://www.w3.org/2000/svg\" height=\"24px\" viewBox=\"0 -960 960 960\">\n",
              "    <path d=\"M120-120v-720h720v720H120Zm60-500h600v-160H180v160Zm220 220h160v-160H400v160Zm0 220h160v-160H400v160ZM180-400h160v-160H180v160Zm440 0h160v-160H620v160ZM180-180h160v-160H180v160Zm440 0h160v-160H620v160Z\"/>\n",
              "  </svg>\n",
              "    </button>\n",
              "\n",
              "  <style>\n",
              "    .colab-df-container {\n",
              "      display:flex;\n",
              "      gap: 12px;\n",
              "    }\n",
              "\n",
              "    .colab-df-convert {\n",
              "      background-color: #E8F0FE;\n",
              "      border: none;\n",
              "      border-radius: 50%;\n",
              "      cursor: pointer;\n",
              "      display: none;\n",
              "      fill: #1967D2;\n",
              "      height: 32px;\n",
              "      padding: 0 0 0 0;\n",
              "      width: 32px;\n",
              "    }\n",
              "\n",
              "    .colab-df-convert:hover {\n",
              "      background-color: #E2EBFA;\n",
              "      box-shadow: 0px 1px 2px rgba(60, 64, 67, 0.3), 0px 1px 3px 1px rgba(60, 64, 67, 0.15);\n",
              "      fill: #174EA6;\n",
              "    }\n",
              "\n",
              "    .colab-df-buttons div {\n",
              "      margin-bottom: 4px;\n",
              "    }\n",
              "\n",
              "    [theme=dark] .colab-df-convert {\n",
              "      background-color: #3B4455;\n",
              "      fill: #D2E3FC;\n",
              "    }\n",
              "\n",
              "    [theme=dark] .colab-df-convert:hover {\n",
              "      background-color: #434B5C;\n",
              "      box-shadow: 0px 1px 3px 1px rgba(0, 0, 0, 0.15);\n",
              "      filter: drop-shadow(0px 1px 2px rgba(0, 0, 0, 0.3));\n",
              "      fill: #FFFFFF;\n",
              "    }\n",
              "  </style>\n",
              "\n",
              "    <script>\n",
              "      const buttonEl =\n",
              "        document.querySelector('#df-c0d10067-6b09-4510-b73a-079d86269920 button.colab-df-convert');\n",
              "      buttonEl.style.display =\n",
              "        google.colab.kernel.accessAllowed ? 'block' : 'none';\n",
              "\n",
              "      async function convertToInteractive(key) {\n",
              "        const element = document.querySelector('#df-c0d10067-6b09-4510-b73a-079d86269920');\n",
              "        const dataTable =\n",
              "          await google.colab.kernel.invokeFunction('convertToInteractive',\n",
              "                                                    [key], {});\n",
              "        if (!dataTable) return;\n",
              "\n",
              "        const docLinkHtml = 'Like what you see? Visit the ' +\n",
              "          '<a target=\"_blank\" href=https://colab.research.google.com/notebooks/data_table.ipynb>data table notebook</a>'\n",
              "          + ' to learn more about interactive tables.';\n",
              "        element.innerHTML = '';\n",
              "        dataTable['output_type'] = 'display_data';\n",
              "        await google.colab.output.renderOutput(dataTable, element);\n",
              "        const docLink = document.createElement('div');\n",
              "        docLink.innerHTML = docLinkHtml;\n",
              "        element.appendChild(docLink);\n",
              "      }\n",
              "    </script>\n",
              "  </div>\n",
              "\n",
              "\n",
              "<div id=\"df-ff06e363-50b5-4570-bbef-8e6bb0e127dc\">\n",
              "  <button class=\"colab-df-quickchart\" onclick=\"quickchart('df-ff06e363-50b5-4570-bbef-8e6bb0e127dc')\"\n",
              "            title=\"Suggest charts.\"\n",
              "            style=\"display:none;\">\n",
              "\n",
              "<svg xmlns=\"http://www.w3.org/2000/svg\" height=\"24px\"viewBox=\"0 0 24 24\"\n",
              "     width=\"24px\">\n",
              "    <g>\n",
              "        <path d=\"M19 3H5c-1.1 0-2 .9-2 2v14c0 1.1.9 2 2 2h14c1.1 0 2-.9 2-2V5c0-1.1-.9-2-2-2zM9 17H7v-7h2v7zm4 0h-2V7h2v10zm4 0h-2v-4h2v4z\"/>\n",
              "    </g>\n",
              "</svg>\n",
              "  </button>\n",
              "\n",
              "<style>\n",
              "  .colab-df-quickchart {\n",
              "    background-color: #E8F0FE;\n",
              "    border: none;\n",
              "    border-radius: 50%;\n",
              "    cursor: pointer;\n",
              "    display: none;\n",
              "    fill: #1967D2;\n",
              "    height: 32px;\n",
              "    padding: 0 0 0 0;\n",
              "    width: 32px;\n",
              "  }\n",
              "\n",
              "  .colab-df-quickchart:hover {\n",
              "    background-color: #E2EBFA;\n",
              "    box-shadow: 0px 1px 2px rgba(60, 64, 67, 0.3), 0px 1px 3px 1px rgba(60, 64, 67, 0.15);\n",
              "    fill: #174EA6;\n",
              "  }\n",
              "\n",
              "  [theme=dark] .colab-df-quickchart {\n",
              "    background-color: #3B4455;\n",
              "    fill: #D2E3FC;\n",
              "  }\n",
              "\n",
              "  [theme=dark] .colab-df-quickchart:hover {\n",
              "    background-color: #434B5C;\n",
              "    box-shadow: 0px 1px 3px 1px rgba(0, 0, 0, 0.15);\n",
              "    filter: drop-shadow(0px 1px 2px rgba(0, 0, 0, 0.3));\n",
              "    fill: #FFFFFF;\n",
              "  }\n",
              "</style>\n",
              "\n",
              "  <script>\n",
              "    async function quickchart(key) {\n",
              "      const charts = await google.colab.kernel.invokeFunction(\n",
              "          'suggestCharts', [key], {});\n",
              "    }\n",
              "    (() => {\n",
              "      let quickchartButtonEl =\n",
              "        document.querySelector('#df-ff06e363-50b5-4570-bbef-8e6bb0e127dc button');\n",
              "      quickchartButtonEl.style.display =\n",
              "        google.colab.kernel.accessAllowed ? 'block' : 'none';\n",
              "    })();\n",
              "  </script>\n",
              "</div>\n",
              "    </div>\n",
              "  </div>\n"
            ]
          },
          "metadata": {},
          "execution_count": 3
        }
      ]
    },
    {
      "cell_type": "code",
      "source": [
        "# Visualize temp information on plot scatters\n",
        "plt.figure(figsize=(10,7))\n",
        "# Plot temperature data\n",
        "plt.scatter(df['Index'], df['Body Temp'], c='r', s=4, label=\"Temperature\")\n",
        "# Plot title\n",
        "plt.title(\"Body Temperature\")\n",
        "# Show the plot\n",
        "plt.show()"
      ],
      "metadata": {
        "colab": {
          "base_uri": "https://localhost:8080/",
          "height": 622
        },
        "id": "xTCeCa4UKK_l",
        "outputId": "8a92519c-5d55-4661-b1f3-87aa646650ef"
      },
      "execution_count": 4,
      "outputs": [
        {
          "output_type": "display_data",
          "data": {
            "text/plain": [
              "<Figure size 1000x700 with 1 Axes>"
            ],
            "image/png": "[encoded data removed]"
          },
          "metadata": {}
        }
      ]
    },
    {
      "cell_type": "markdown",
      "source": [
        "## 2. Preparing data"
      ],
      "metadata": {
        "id": "901EsaaIrbNO"
      }
    },
    {
      "cell_type": "code",
      "source": [
        "# Convert temperature and pressure to arrays\n",
        "X_numpy = df['Body Temp'].to_numpy()\n",
        "\n",
        "X_numpy"
      ],
      "metadata": {
        "colab": {
          "base_uri": "https://localhost:8080/"
        },
        "id": "66WvPyDXO-Q-",
        "outputId": "c645dd7a-7cb2-4381-dfe1-784863932dfc"
      },
      "execution_count": 5,
      "outputs": [
        {
          "output_type": "execute_result",
          "data": {
            "text/plain": [
              "array([26.285, 26.285, 26.27 , 26.26 , 26.245, 26.245, 26.24 , 26.23 ,\n",
              "       26.195, 26.225, 26.24 , 26.345, 26.37 , 26.34 , 26.3  , 26.285,\n",
              "       26.27 , 26.26 , 26.33 , 26.335, 26.36 , 26.375, 26.355, 26.32 ,\n",
              "       26.285, 26.26 , 26.23 , 26.225, 26.21 , 26.205, 26.185, 26.24 ,\n",
              "       26.25 , 26.24 , 26.255, 26.24 , 26.25 , 26.275, 26.375, 27.145,\n",
              "       32.865, 34.23 , 34.63 , 34.805, 34.9  , 34.965, 35.015, 35.05 ,\n",
              "       35.09 , 35.12 , 35.13 , 35.15 , 34.505, 33.315, 32.285, 31.36 ,\n",
              "       30.62 , 30.01 , 29.505, 29.045, 28.67 , 28.878, 26.263, 28.775,\n",
              "       32.892, 30.379, 31.978, 32.907, 31.819, 34.569, 34.58 , 28.21 ,\n",
              "       33.406, 28.906, 28.526, 31.43 , 32.262, 33.507, 27.697, 28.022,\n",
              "       30.906, 32.813, 26.428, 27.829, 30.814, 30.835, 32.208, 28.374,\n",
              "       33.497, 28.344, 33.929, 30.34 , 29.157, 33.726, 28.127, 32.833,\n",
              "       27.323, 27.028, 30.283, 28.603, 31.841, 31.65 , 32.616, 28.126,\n",
              "       30.273, 32.887, 28.923, 31.633, 32.097, 28.271, 27.938, 30.877,\n",
              "       31.827, 32.903, 28.087, 33.249, 34.694, 32.069, 29.512, 26.523,\n",
              "       28.98 , 26.555, 29.038, 27.23 , 31.171, 27.504, 34.173, 31.8  ,\n",
              "       29.782, 33.803, 32.506, 32.64 , 33.967, 29.622, 33.902, 27.228,\n",
              "       31.206, 31.156, 26.377, 28.056, 34.197, 26.417, 28.821, 32.242,\n",
              "       27.213, 26.518, 32.29 , 32.294, 27.513, 31.214, 30.526, 34.776,\n",
              "       31.631, 28.826, 35.049, 26.808, 31.185, 28.146, 33.957, 27.472,\n",
              "       29.571, 34.715, 27.784, 30.956, 32.228, 28.837, 27.272, 26.818,\n",
              "       31.227, 31.026, 27.438, 32.376, 34.669, 31.654, 34.669, 28.336,\n",
              "       30.72 , 33.13 , 33.101, 35.041, 28.244, 30.972, 29.838, 29.899,\n",
              "       33.61 , 27.048, 33.48 , 29.354, 32.4  , 28.294, 26.272, 33.707,\n",
              "       33.855, 31.741, 31.146, 31.076, 34.315, 32.831, 31.581, 30.892])"
            ]
          },
          "metadata": {},
          "execution_count": 5
        }
      ]
    },
    {
      "cell_type": "code",
      "source": [
        "# Shuffle data\n",
        "np.random.shuffle(X_numpy)\n",
        "\n",
        "X_numpy"
      ],
      "metadata": {
        "colab": {
          "base_uri": "https://localhost:8080/"
        },
        "id": "IbsxIpK2vIP4",
        "outputId": "4316f9af-d83a-4049-a78c-b3e9c1edc018"
      },
      "execution_count": 6,
      "outputs": [
        {
          "output_type": "execute_result",
          "data": {
            "text/plain": [
              "array([26.245, 33.249, 31.581, 34.669, 33.315, 30.835, 28.837, 26.26 ,\n",
              "       33.48 , 32.262, 26.335, 30.283, 26.24 , 29.354, 26.285, 27.938,\n",
              "       26.37 , 32.4  , 26.255, 26.25 , 29.157, 26.26 , 31.227, 26.285,\n",
              "       28.67 , 34.173, 28.126, 32.903, 26.245, 34.9  , 28.98 , 34.569,\n",
              "       33.726, 32.376, 30.892, 26.24 , 35.15 , 26.285, 30.01 , 34.505,\n",
              "       29.622, 35.09 , 31.978, 32.907, 31.214, 32.887, 29.899, 33.61 ,\n",
              "       32.285, 33.101, 32.242, 26.33 , 26.818, 26.417, 33.507, 26.375,\n",
              "       26.263, 28.821, 32.616, 28.775, 30.906, 26.24 , 34.776, 35.015,\n",
              "       26.272, 31.43 , 26.225, 28.906, 35.05 , 31.206, 33.855, 31.631,\n",
              "       31.8  , 30.273, 27.438, 28.127, 33.13 , 28.056, 27.323, 26.23 ,\n",
              "       33.957, 26.377, 26.285, 27.048, 28.526, 26.185, 30.814, 33.707,\n",
              "       27.028, 28.244, 35.041, 26.808, 30.972, 34.63 , 30.379, 33.803,\n",
              "       29.045, 34.805, 26.21 , 32.069, 26.25 , 34.58 , 32.64 , 28.603,\n",
              "       26.27 , 27.23 , 30.526, 28.21 , 26.518, 32.208, 28.271, 35.12 ,\n",
              "       35.13 , 34.965, 29.512, 26.523, 30.956, 33.497, 26.23 , 31.076,\n",
              "       31.827, 31.819, 28.022, 31.654, 28.336, 32.813, 31.146, 26.345,\n",
              "       26.275, 32.865, 27.829, 26.555, 28.294, 27.213, 30.72 , 26.24 ,\n",
              "       34.669, 26.32 , 31.026, 26.355, 33.406, 26.26 , 31.156, 32.831,\n",
              "       29.038, 31.36 , 33.929, 34.694, 35.049, 28.923, 32.506, 32.097,\n",
              "       26.24 , 32.294, 29.838, 27.504, 28.826, 28.146, 32.833, 27.145,\n",
              "       29.505, 34.315, 27.697, 26.225, 30.62 , 32.228, 33.902, 31.65 ,\n",
              "       27.513, 31.841, 32.892, 31.633, 34.23 , 26.195, 33.967, 28.374,\n",
              "       31.185, 32.29 , 30.877, 28.344, 28.087, 26.3  , 34.197, 29.571,\n",
              "       27.228, 26.36 , 30.34 , 26.205, 26.34 , 31.741, 27.784, 26.27 ,\n",
              "       29.782, 27.272, 34.715, 26.375, 28.878, 27.472, 31.171, 26.428])"
            ]
          },
          "metadata": {},
          "execution_count": 6
        }
      ]
    },
    {
      "cell_type": "code",
      "source": [
        "# Convert temperature to torch data bc of datatype\n",
        "X_numpy.dtype"
      ],
      "metadata": {
        "colab": {
          "base_uri": "https://localhost:8080/"
        },
        "id": "5BsOC79UPaHT",
        "outputId": "b70f93dc-3a38-4160-d0f6-e79d6dfb01a3"
      },
      "execution_count": 7,
      "outputs": [
        {
          "output_type": "execute_result",
          "data": {
            "text/plain": [
              "dtype('float64')"
            ]
          },
          "metadata": {},
          "execution_count": 7
        }
      ]
    },
    {
      "cell_type": "code",
      "source": [
        "X_tensor = torch.from_numpy(X_numpy)\n",
        "\n",
        "X_tensor"
      ],
      "metadata": {
        "colab": {
          "base_uri": "https://localhost:8080/"
        },
        "id": "mr_E4BPWp7vy",
        "outputId": "e8ff8258-bea6-4c01-81f6-27913fcfef98"
      },
      "execution_count": 8,
      "outputs": [
        {
          "output_type": "execute_result",
          "data": {
            "text/plain": [
              "tensor([26.2450, 33.2490, 31.5810, 34.6690, 33.3150, 30.8350, 28.8370, 26.2600,\n",
              "        33.4800, 32.2620, 26.3350, 30.2830, 26.2400, 29.3540, 26.2850, 27.9380,\n",
              "        26.3700, 32.4000, 26.2550, 26.2500, 29.1570, 26.2600, 31.2270, 26.2850,\n",
              "        28.6700, 34.1730, 28.1260, 32.9030, 26.2450, 34.9000, 28.9800, 34.5690,\n",
              "        33.7260, 32.3760, 30.8920, 26.2400, 35.1500, 26.2850, 30.0100, 34.5050,\n",
              "        29.6220, 35.0900, 31.9780, 32.9070, 31.2140, 32.8870, 29.8990, 33.6100,\n",
              "        32.2850, 33.1010, 32.2420, 26.3300, 26.8180, 26.4170, 33.5070, 26.3750,\n",
              "        26.2630, 28.8210, 32.6160, 28.7750, 30.9060, 26.2400, 34.7760, 35.0150,\n",
              "        26.2720, 31.4300, 26.2250, 28.9060, 35.0500, 31.2060, 33.8550, 31.6310,\n",
              "        31.8000, 30.2730, 27.4380, 28.1270, 33.1300, 28.0560, 27.3230, 26.2300,\n",
              "        33.9570, 26.3770, 26.2850, 27.0480, 28.5260, 26.1850, 30.8140, 33.7070,\n",
              "        27.0280, 28.2440, 35.0410, 26.8080, 30.9720, 34.6300, 30.3790, 33.8030,\n",
              "        29.0450, 34.8050, 26.2100, 32.0690, 26.2500, 34.5800, 32.6400, 28.6030,\n",
              "        26.2700, 27.2300, 30.5260, 28.2100, 26.5180, 32.2080, 28.2710, 35.1200,\n",
              "        35.1300, 34.9650, 29.5120, 26.5230, 30.9560, 33.4970, 26.2300, 31.0760,\n",
              "        31.8270, 31.8190, 28.0220, 31.6540, 28.3360, 32.8130, 31.1460, 26.3450,\n",
              "        26.2750, 32.8650, 27.8290, 26.5550, 28.2940, 27.2130, 30.7200, 26.2400,\n",
              "        34.6690, 26.3200, 31.0260, 26.3550, 33.4060, 26.2600, 31.1560, 32.8310,\n",
              "        29.0380, 31.3600, 33.9290, 34.6940, 35.0490, 28.9230, 32.5060, 32.0970,\n",
              "        26.2400, 32.2940, 29.8380, 27.5040, 28.8260, 28.1460, 32.8330, 27.1450,\n",
              "        29.5050, 34.3150, 27.6970, 26.2250, 30.6200, 32.2280, 33.9020, 31.6500,\n",
              "        27.5130, 31.8410, 32.8920, 31.6330, 34.2300, 26.1950, 33.9670, 28.3740,\n",
              "        31.1850, 32.2900, 30.8770, 28.3440, 28.0870, 26.3000, 34.1970, 29.5710,\n",
              "        27.2280, 26.3600, 30.3400, 26.2050, 26.3400, 31.7410, 27.7840, 26.2700,\n",
              "        29.7820, 27.2720, 34.7150, 26.3750, 28.8780, 27.4720, 31.1710, 26.4280],\n",
              "       dtype=torch.float64)"
            ]
          },
          "metadata": {},
          "execution_count": 8
        }
      ]
    },
    {
      "cell_type": "code",
      "source": [
        "# We need to work with 32float tensors\n",
        "X = X_tensor.type(torch.float32)\n",
        "\n",
        "X.dtype"
      ],
      "metadata": {
        "colab": {
          "base_uri": "https://localhost:8080/"
        },
        "id": "jGvD--6BqRzM",
        "outputId": "4089ce62-9b33-4ebe-f75b-dbb16cc1ad84"
      },
      "execution_count": 9,
      "outputs": [
        {
          "output_type": "execute_result",
          "data": {
            "text/plain": [
              "torch.float32"
            ]
          },
          "metadata": {},
          "execution_count": 9
        }
      ]
    },
    {
      "cell_type": "markdown",
      "source": [
        "### 2.1 Creating baselines"
      ],
      "metadata": {
        "id": "wkpRRd_UvNyM"
      }
    },
    {
      "cell_type": "code",
      "source": [
        "# Create known parameters\n",
        "weight = 0.8\n",
        "bias = 0.2\n",
        "\n",
        "# Create model with formula\n",
        "start = 0\n",
        "end = 1\n",
        "step = 0.02\n",
        "y = weight * X + bias\n",
        "print(X[:10], y[:10])"
      ],
      "metadata": {
        "colab": {
          "base_uri": "https://localhost:8080/"
        },
        "id": "jsRJ3jJAxmws",
        "outputId": "b56555b3-082b-417d-8cd5-a3e49860948a"
      },
      "execution_count": 10,
      "outputs": [
        {
          "output_type": "stream",
          "name": "stdout",
          "text": [
            "tensor([26.2450, 33.2490, 31.5810, 34.6690, 33.3150, 30.8350, 28.8370, 26.2600,\n",
            "        33.4800, 32.2620]) tensor([21.1960, 26.7992, 25.4648, 27.9352, 26.8520, 24.8680, 23.2696, 21.2080,\n",
            "        26.9840, 26.0096])\n"
          ]
        }
      ]
    },
    {
      "cell_type": "code",
      "source": [
        "len(X), len(y)"
      ],
      "metadata": {
        "colab": {
          "base_uri": "https://localhost:8080/"
        },
        "id": "1MMwijRAMPgE",
        "outputId": "6c062866-5b58-4974-e55e-0d2fbf93b93c"
      },
      "execution_count": 11,
      "outputs": [
        {
          "output_type": "execute_result",
          "data": {
            "text/plain": [
              "(200, 200)"
            ]
          },
          "metadata": {},
          "execution_count": 11
        }
      ]
    },
    {
      "cell_type": "code",
      "source": [
        "# Create a train/test split for linear regression\n",
        "train_split = int(0.8 * len(X))\n",
        "X_train, y_train = X[:train_split], y[:train_split]\n",
        "X_test, y_test = X[train_split:], y[train_split:]\n",
        "\n",
        "len(X_train), len(y_train), len(X_test), len(y_test)"
      ],
      "metadata": {
        "colab": {
          "base_uri": "https://localhost:8080/"
        },
        "id": "6Ly6O2-IxEK7",
        "outputId": "e23e832a-c8bb-49b8-c896-143106f05953"
      },
      "execution_count": 12,
      "outputs": [
        {
          "output_type": "execute_result",
          "data": {
            "text/plain": [
              "(160, 160, 40, 40)"
            ]
          },
          "metadata": {},
          "execution_count": 12
        }
      ]
    },
    {
      "cell_type": "markdown",
      "source": [
        "### 2.2 Visualizing the train and test data"
      ],
      "metadata": {
        "id": "i6Oox-34MYuO"
      }
    },
    {
      "cell_type": "code",
      "source": [
        "def plot_predictions(train_data,\n",
        "                     train_labels,\n",
        "                     test_data,\n",
        "                     test_labels,\n",
        "                     predictions=None,\n",
        "                     title=\"str\"):\n",
        "  \"\"\" Plots training data, test data and compares predictions \"\"\"\n",
        "  plt.figure(figsize=(10, 7))\n",
        "\n",
        "  # Plot title\n",
        "  plt.title(f\"{title}\")\n",
        "\n",
        "  # Plot training data in blue\n",
        "  plt.scatter(train_data, train_labels, c='b', s=4, label='Training data')\n",
        "\n",
        "  # Plot testing data in green\n",
        "  plt.scatter(test_data, test_labels, c='g', s=4, label='Testing data')\n",
        "\n",
        "  # Check if there are predicitions\n",
        "  if predictions is not None:\n",
        "    # Plot the predictions if they exist\n",
        "    plt.scatter(test_data, predictions, c='r', s=4, label='Predictions')\n",
        "\n",
        "  # Show the legend\n",
        "  plt.legend(prop={\"size\": 14});"
      ],
      "metadata": {
        "id": "oGjKbQlfMbk8"
      },
      "execution_count": 13,
      "outputs": []
    },
    {
      "cell_type": "code",
      "source": [
        "# For temperature\n",
        "plot_predictions(X_train, y_train, X_test, y_test, title=\"Body Temperature\")"
      ],
      "metadata": {
        "colab": {
          "base_uri": "https://localhost:8080/",
          "height": 622
        },
        "id": "_WKJZtWiMs_h",
        "outputId": "73953e5b-1e5f-4aa4-db6e-390473d3545f"
      },
      "execution_count": 14,
      "outputs": [
        {
          "output_type": "display_data",
          "data": {
            "text/plain": [
              "<Figure size 1000x700 with 1 Axes>"
            ],
            "image/png": "[encoded data removed]"
          },
          "metadata": {}
        }
      ]
    },
    {
      "cell_type": "markdown",
      "source": [
        "## 3. Build a model"
      ],
      "metadata": {
        "id": "bP05cWEhOPfK"
      }
    },
    {
      "cell_type": "code",
      "source": [
        "from torch import nn\n",
        "# Create linear regression model class\n",
        "class LinearRegressionModel(nn.Module):\n",
        "  def __init__(self):\n",
        "    super().__init__()\n",
        "    self.weights = nn.Parameter(torch.randn(1,\n",
        "                                             requires_grad=True,\n",
        "                                             dtype=torch.float))\n",
        "    self.bias = nn.Parameter(torch.randn(1,\n",
        "                                          requires_grad=True,\n",
        "                                          dtype=torch.float))\n",
        "\n",
        "  # Forward method to define the computation in the model\n",
        "  def forward(self, x:torch.Tensor) -> torch.Tensor:\n",
        "    return self.weights * x + self.bias"
      ],
      "metadata": {
        "id": "IibvWLjVOywd"
      },
      "execution_count": 15,
      "outputs": []
    },
    {
      "cell_type": "code",
      "source": [
        " # Create a random seed\n",
        " torch.manual_seed(42)\n",
        "\n",
        " # Create an instance of the model (this is a subclass of nn.Module)\n",
        " model_0 = LinearRegressionModel()\n",
        "\n",
        " # Check out the parameters\n",
        " list(model_0.parameters())"
      ],
      "metadata": {
        "colab": {
          "base_uri": "https://localhost:8080/"
        },
        "id": "D-f7NQSSPQn1",
        "outputId": "53ad09d7-5c87-4c49-f6b6-65ae85b0d250"
      },
      "execution_count": 16,
      "outputs": [
        {
          "output_type": "execute_result",
          "data": {
            "text/plain": [
              "[Parameter containing:\n",
              " tensor([0.3367], requires_grad=True),\n",
              " Parameter containing:\n",
              " tensor([0.1288], requires_grad=True)]"
            ]
          },
          "metadata": {},
          "execution_count": 16
        }
      ]
    },
    {
      "cell_type": "code",
      "source": [
        "# Look out what does parameters above refer to\n",
        "model_0.state_dict()"
      ],
      "metadata": {
        "colab": {
          "base_uri": "https://localhost:8080/"
        },
        "id": "spUlfs3iPmXi",
        "outputId": "cf84183e-2593-48c0-fd88-5605e29d97ce"
      },
      "execution_count": 17,
      "outputs": [
        {
          "output_type": "execute_result",
          "data": {
            "text/plain": [
              "OrderedDict([('weights', tensor([0.3367])), ('bias', tensor([0.1288]))])"
            ]
          },
          "metadata": {},
          "execution_count": 17
        }
      ]
    },
    {
      "cell_type": "code",
      "source": [
        "# Check model device\n",
        "next(model_0.parameters()).device"
      ],
      "metadata": {
        "colab": {
          "base_uri": "https://localhost:8080/"
        },
        "id": "gSsl3nb2f-9P",
        "outputId": "41e343d0-2c97-4b87-9da1-0be9ea2b7b4b"
      },
      "execution_count": 18,
      "outputs": [
        {
          "output_type": "execute_result",
          "data": {
            "text/plain": [
              "device(type='cpu')"
            ]
          },
          "metadata": {},
          "execution_count": 18
        }
      ]
    },
    {
      "cell_type": "code",
      "source": [
        "device = 'cuda' if torch.cuda.is_available() else 'cpu'\n",
        "print(f\"Using device: {device}\")"
      ],
      "metadata": {
        "colab": {
          "base_uri": "https://localhost:8080/"
        },
        "id": "JxASHVNcgR52",
        "outputId": "8300ab00-5d79-4083-ecc3-56cd52ff7b17"
      },
      "execution_count": 19,
      "outputs": [
        {
          "output_type": "stream",
          "name": "stdout",
          "text": [
            "Using device: cuda\n"
          ]
        }
      ]
    },
    {
      "cell_type": "code",
      "source": [
        "# Set model to GPU if available\n",
        "model_0.to(device)\n",
        "next(model_0.parameters()).device"
      ],
      "metadata": {
        "colab": {
          "base_uri": "https://localhost:8080/"
        },
        "id": "8D8EBxYSgES5",
        "outputId": "17bf8eab-096f-4b28-b66d-e8ef035b996e"
      },
      "execution_count": 20,
      "outputs": [
        {
          "output_type": "execute_result",
          "data": {
            "text/plain": [
              "device(type='cuda', index=0)"
            ]
          },
          "metadata": {},
          "execution_count": 20
        }
      ]
    },
    {
      "cell_type": "code",
      "source": [
        "X_test"
      ],
      "metadata": {
        "colab": {
          "base_uri": "https://localhost:8080/"
        },
        "id": "SGPUH370P7vg",
        "outputId": "c4724f56-24e6-4d84-a0e1-89d6fed6d49f"
      },
      "execution_count": 21,
      "outputs": [
        {
          "output_type": "execute_result",
          "data": {
            "text/plain": [
              "tensor([29.5050, 34.3150, 27.6970, 26.2250, 30.6200, 32.2280, 33.9020, 31.6500,\n",
              "        27.5130, 31.8410, 32.8920, 31.6330, 34.2300, 26.1950, 33.9670, 28.3740,\n",
              "        31.1850, 32.2900, 30.8770, 28.3440, 28.0870, 26.3000, 34.1970, 29.5710,\n",
              "        27.2280, 26.3600, 30.3400, 26.2050, 26.3400, 31.7410, 27.7840, 26.2700,\n",
              "        29.7820, 27.2720, 34.7150, 26.3750, 28.8780, 27.4720, 31.1710, 26.4280])"
            ]
          },
          "metadata": {},
          "execution_count": 21
        }
      ]
    },
    {
      "cell_type": "markdown",
      "source": [
        "## 4. Train model\n",
        "\n",
        "Go from a poor representation of the data to a better representation, which leads to less loss and more accuracy"
      ],
      "metadata": {
        "id": "bPH8ln3lQuXS"
      }
    },
    {
      "cell_type": "code",
      "source": [
        "# Check model_0 parameters\n",
        "model_0.state_dict()"
      ],
      "metadata": {
        "colab": {
          "base_uri": "https://localhost:8080/"
        },
        "id": "Xtpk1OYYRVyj",
        "outputId": "0637fe1a-7ed2-4eb1-a49f-b96b7fdbfad2"
      },
      "execution_count": 22,
      "outputs": [
        {
          "output_type": "execute_result",
          "data": {
            "text/plain": [
              "OrderedDict([('weights', tensor([0.3367], device='cuda:0')),\n",
              "             ('bias', tensor([0.1288], device='cuda:0'))])"
            ]
          },
          "metadata": {},
          "execution_count": 22
        }
      ]
    },
    {
      "cell_type": "code",
      "source": [
        "# Set up a loss functions\n",
        "loss_fn = nn.L1Loss()\n",
        "\n",
        "optimizer = torch.optim.SGD(params=model_0.parameters(),\n",
        "                            lr=0.01)"
      ],
      "metadata": {
        "id": "d61V8aOFRe2T"
      },
      "execution_count": 23,
      "outputs": []
    },
    {
      "cell_type": "markdown",
      "source": [
        "### 4.1 Building a training loop\n",
        "0. Loop through data\n",
        "1. Forward pass (this involves data moving through our model's forward() functions) to make predictions on data - also called forward propagation\n",
        "2. Calculate the loss (compare forward pass predictions to ground truth labels)\n",
        "3. Optimize zero grad\n",
        "4. Loss backward - move backwards though the network to calculate the gradients of each of the parameters of our model with respect to the loss (backpropagation)\n",
        "5. Optimizer step - use the optimizer to adjust our model's parameters to try and improve the loss (gradient descent)"
      ],
      "metadata": {
        "id": "Amldjn23VgOD"
      }
    },
    {
      "cell_type": "code",
      "source": [
        "# Put data on available device\n",
        "# If not, error will happen\n",
        "X_train = X_train.to(device)\n",
        "X_test = X_test.to(device)\n",
        "y_train = y_train.to(device)\n",
        "y_test = y_test.to(device)"
      ],
      "metadata": {
        "id": "a2i2Vy0yjrIN"
      },
      "execution_count": 24,
      "outputs": []
    },
    {
      "cell_type": "code",
      "source": [
        "X_train.shape"
      ],
      "metadata": {
        "colab": {
          "base_uri": "https://localhost:8080/"
        },
        "id": "pbJqfeDEjd99",
        "outputId": "d958baf9-b956-4c18-faeb-6e327d67008f"
      },
      "execution_count": 25,
      "outputs": [
        {
          "output_type": "execute_result",
          "data": {
            "text/plain": [
              "torch.Size([160])"
            ]
          },
          "metadata": {},
          "execution_count": 25
        }
      ]
    },
    {
      "cell_type": "code",
      "source": [
        "# Make pre-preds\n",
        "with torch.inference_mode():\n",
        "  untrained_preds = model_0(X_test)\n",
        "\n",
        "print(f\"Lenght of predictions: {len(untrained_preds)}, Shape: {untrained_preds.shape}\")\n",
        "print(f\"Lenght of test samples: {len(X_test)}, Shape: {X_test.shape}\")\n",
        "print(f\"\\nFirst 10 predictions: \\n{untrained_preds[:10]}\")\n",
        "print(f\"\\nFirst 10 labels: \\n{y_test[:10]}\")"
      ],
      "metadata": {
        "colab": {
          "base_uri": "https://localhost:8080/"
        },
        "id": "yMnF7uwUjtvo",
        "outputId": "661429da-fd96-4ac5-9a45-b60b6634ba7c"
      },
      "execution_count": 26,
      "outputs": [
        {
          "output_type": "stream",
          "name": "stdout",
          "text": [
            "Lenght of predictions: 40, Shape: torch.Size([40])\n",
            "Lenght of test samples: 40, Shape: torch.Size([40])\n",
            "\n",
            "First 10 predictions: \n",
            "tensor([10.0629, 11.6823,  9.4541,  8.9585, 10.4383, 10.9797, 11.5433, 10.7851,\n",
            "         9.3922, 10.8494], device='cuda:0')\n",
            "\n",
            "First 10 labels: \n",
            "tensor([23.8040, 27.6520, 22.3576, 21.1800, 24.6960, 25.9824, 27.3216, 25.5200,\n",
            "        22.2104, 25.6728], device='cuda:0')\n"
          ]
        }
      ]
    },
    {
      "cell_type": "code",
      "source": [
        "# Building a training loop for temperature\n",
        "torch.manual_seed(42)\n",
        "# Define epochs\n",
        "epochs = 1000\n",
        "\n",
        "# Training\n",
        "# 0. Loop through the data\n",
        "for epoch in range(epochs):\n",
        "  # Training mode\n",
        "  model_0.train()\n",
        "\n",
        "  # 1. Forward pass\n",
        "  y_pred = model_0(X_train)\n",
        "\n",
        "  # 2. Calculate the loss\n",
        "  loss = loss_fn(y_pred, y_train)\n",
        "\n",
        "  # 3. Optimizer zero grad\n",
        "  optimizer.zero_grad()\n",
        "\n",
        "  # 4. Perform backpropagation\n",
        "  loss.backward()\n",
        "\n",
        "  # 5. Step the optimizer\n",
        "  optimizer.step()\n",
        "\n",
        "  # Testing mode\n",
        "  model_0.eval()\n",
        "\n",
        "  with torch.inference_mode():\n",
        "    # 1. Forward pass\n",
        "    test_pred = model_0(X_test)\n",
        "\n",
        "    # Calculate the loss\n",
        "    test_loss = loss_fn(test_pred, y_test)\n",
        "\n",
        "  if epoch % 100 == 0:\n",
        "    print(f\"Epoch: {epoch} | Train Loss: {loss:.4f} | Test loss: {test_loss:.4f}\")\n",
        "\n",
        "    # Print model state dict (we'll visualize adjusted parameters)\n",
        "    print(model_0.state_dict())"
      ],
      "metadata": {
        "colab": {
          "base_uri": "https://localhost:8080/"
        },
        "id": "SWQ4KFQRVu6y",
        "outputId": "2207647d-52a4-4502-a1d4-796f234a2b82"
      },
      "execution_count": 27,
      "outputs": [
        {
          "output_type": "stream",
          "name": "stdout",
          "text": [
            "Epoch: 0 | Train Loss: 14.0296 | Test loss: 4.8736\n",
            "OrderedDict([('weights', tensor([0.6380], device='cuda:0')), ('bias', tensor([0.1388], device='cuda:0'))])\n",
            "Epoch: 100 | Train Loss: 4.1438 | Test loss: 4.8736\n",
            "OrderedDict([('weights', tensor([0.6380], device='cuda:0')), ('bias', tensor([0.1388], device='cuda:0'))])\n",
            "Epoch: 200 | Train Loss: 4.1438 | Test loss: 4.8736\n",
            "OrderedDict([('weights', tensor([0.6380], device='cuda:0')), ('bias', tensor([0.1388], device='cuda:0'))])\n",
            "Epoch: 300 | Train Loss: 4.1438 | Test loss: 4.8736\n",
            "OrderedDict([('weights', tensor([0.6380], device='cuda:0')), ('bias', tensor([0.1388], device='cuda:0'))])\n",
            "Epoch: 400 | Train Loss: 4.1438 | Test loss: 4.8736\n",
            "OrderedDict([('weights', tensor([0.6380], device='cuda:0')), ('bias', tensor([0.1388], device='cuda:0'))])\n",
            "Epoch: 500 | Train Loss: 4.1438 | Test loss: 4.8736\n",
            "OrderedDict([('weights', tensor([0.6380], device='cuda:0')), ('bias', tensor([0.1388], device='cuda:0'))])\n",
            "Epoch: 600 | Train Loss: 4.1438 | Test loss: 4.8736\n",
            "OrderedDict([('weights', tensor([0.6380], device='cuda:0')), ('bias', tensor([0.1388], device='cuda:0'))])\n",
            "Epoch: 700 | Train Loss: 4.1438 | Test loss: 4.8736\n",
            "OrderedDict([('weights', tensor([0.6380], device='cuda:0')), ('bias', tensor([0.1388], device='cuda:0'))])\n",
            "Epoch: 800 | Train Loss: 4.1438 | Test loss: 4.8736\n",
            "OrderedDict([('weights', tensor([0.6380], device='cuda:0')), ('bias', tensor([0.1388], device='cuda:0'))])\n",
            "Epoch: 900 | Train Loss: 4.1438 | Test loss: 4.8736\n",
            "OrderedDict([('weights', tensor([0.6380], device='cuda:0')), ('bias', tensor([0.1388], device='cuda:0'))])\n"
          ]
        }
      ]
    },
    {
      "cell_type": "code",
      "source": [
        "list(model_0.parameters())"
      ],
      "metadata": {
        "colab": {
          "base_uri": "https://localhost:8080/"
        },
        "id": "AGaFGBvJrqoB",
        "outputId": "b0576a41-a262-4c81-d270-e2c196cf4d2f"
      },
      "execution_count": 28,
      "outputs": [
        {
          "output_type": "execute_result",
          "data": {
            "text/plain": [
              "[Parameter containing:\n",
              " tensor([0.9392], device='cuda:0', requires_grad=True),\n",
              " Parameter containing:\n",
              " tensor([0.1488], device='cuda:0', requires_grad=True)]"
            ]
          },
          "metadata": {},
          "execution_count": 28
        }
      ]
    }
  ]
}