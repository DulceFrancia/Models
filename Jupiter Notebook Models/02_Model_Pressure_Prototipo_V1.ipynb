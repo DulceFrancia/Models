{
  "nbformat": 4,
  "nbformat_minor": 0,
  "metadata": {
    "colab": {
      "provenance": [],
      "gpuType": "T4"
    },
    "kernelspec": {
      "name": "python3",
      "display_name": "Python 3"
    },
    "language_info": {
      "name": "python"
    },
    "accelerator": "GPU"
  },
  "cells": [
    {
      "cell_type": "code",
      "execution_count": 1,
      "metadata": {
        "id": "atOgjiYUIBHs"
      },
      "outputs": [],
      "source": [
        "# Import Statements\n",
        "import torch\n",
        "from torch import nn\n",
        "import matplotlib.pyplot as plt\n",
        "import numpy as np"
      ]
    },
    {
      "cell_type": "markdown",
      "source": [
        "## 1. Visualizing data"
      ],
      "metadata": {
        "id": "A6gzOqWRIcLb"
      }
    },
    {
      "cell_type": "code",
      "source": [
        "import pandas as pd\n",
        "df=pd.read_csv(\"datos_df_p.csv\")\n",
        "print(df.head())"
      ],
      "metadata": {
        "colab": {
          "base_uri": "https://localhost:8080/"
        },
        "id": "f0jC4sRYIl_x",
        "outputId": "01c07218-d842-4632-899d-d8a9965aae7e"
      },
      "execution_count": 2,
      "outputs": [
        {
          "output_type": "stream",
          "name": "stdout",
          "text": [
            "   Index  Pressure\n",
            "0      1  86434.94\n",
            "1      2  86435.55\n",
            "2      3  86435.55\n",
            "3      4  86434.63\n",
            "4      5  86434.33\n"
          ]
        }
      ]
    },
    {
      "cell_type": "code",
      "source": [
        "df"
      ],
      "metadata": {
        "colab": {
          "base_uri": "https://localhost:8080/",
          "height": 419
        },
        "id": "wVs5tzEfMp68",
        "outputId": "a4ad0917-fc57-42dd-db19-885eb089e599"
      },
      "execution_count": 3,
      "outputs": [
        {
          "output_type": "execute_result",
          "data": {
            "text/plain": [
              "     Index  Pressure\n",
              "0        1  86434.94\n",
              "1        2  86435.55\n",
              "2        3  86435.55\n",
              "3        4  86434.63\n",
              "4        5  86434.33\n",
              "..     ...       ...\n",
              "195    196  86435.21\n",
              "196    197  86434.17\n",
              "197    198  86433.55\n",
              "198    199  86433.63\n",
              "199    200  86433.70\n",
              "\n",
              "[200 rows x 2 columns]"
            ],
            "text/html": [
              "\n",
              "  <div id=\"df-2b158635-d958-4c4f-b760-fcf240c9f163\" class=\"colab-df-container\">\n",
              "    <div>\n",
              "<style scoped>\n",
              "    .dataframe tbody tr th:only-of-type {\n",
              "        vertical-align: middle;\n",
              "    }\n",
              "\n",
              "    .dataframe tbody tr th {\n",
              "        vertical-align: top;\n",
              "    }\n",
              "\n",
              "    .dataframe thead th {\n",
              "        text-align: right;\n",
              "    }\n",
              "</style>\n",
              "<table border=\"1\" class=\"dataframe\">\n",
              "  <thead>\n",
              "    <tr style=\"text-align: right;\">\n",
              "      <th></th>\n",
              "      <th>Index</th>\n",
              "      <th>Pressure</th>\n",
              "    </tr>\n",
              "  </thead>\n",
              "  <tbody>\n",
              "    <tr>\n",
              "      <th>0</th>\n",
              "      <td>1</td>\n",
              "      <td>86434.94</td>\n",
              "    </tr>\n",
              "    <tr>\n",
              "      <th>1</th>\n",
              "      <td>2</td>\n",
              "      <td>86435.55</td>\n",
              "    </tr>\n",
              "    <tr>\n",
              "      <th>2</th>\n",
              "      <td>3</td>\n",
              "      <td>86435.55</td>\n",
              "    </tr>\n",
              "    <tr>\n",
              "      <th>3</th>\n",
              "      <td>4</td>\n",
              "      <td>86434.63</td>\n",
              "    </tr>\n",
              "    <tr>\n",
              "      <th>4</th>\n",
              "      <td>5</td>\n",
              "      <td>86434.33</td>\n",
              "    </tr>\n",
              "    <tr>\n",
              "      <th>...</th>\n",
              "      <td>...</td>\n",
              "      <td>...</td>\n",
              "    </tr>\n",
              "    <tr>\n",
              "      <th>195</th>\n",
              "      <td>196</td>\n",
              "      <td>86435.21</td>\n",
              "    </tr>\n",
              "    <tr>\n",
              "      <th>196</th>\n",
              "      <td>197</td>\n",
              "      <td>86434.17</td>\n",
              "    </tr>\n",
              "    <tr>\n",
              "      <th>197</th>\n",
              "      <td>198</td>\n",
              "      <td>86433.55</td>\n",
              "    </tr>\n",
              "    <tr>\n",
              "      <th>198</th>\n",
              "      <td>199</td>\n",
              "      <td>86433.63</td>\n",
              "    </tr>\n",
              "    <tr>\n",
              "      <th>199</th>\n",
              "      <td>200</td>\n",
              "      <td>86433.70</td>\n",
              "    </tr>\n",
              "  </tbody>\n",
              "</table>\n",
              "<p>200 rows × 2 columns</p>\n",
              "</div>\n",
              "    <div class=\"colab-df-buttons\">\n",
              "\n",
              "  <div class=\"colab-df-container\">\n",
              "    <button class=\"colab-df-convert\" onclick=\"convertToInteractive('df-2b158635-d958-4c4f-b760-fcf240c9f163')\"\n",
              "            title=\"Convert this dataframe to an interactive table.\"\n",
              "            style=\"display:none;\">\n",
              "\n",
              "  <svg xmlns=\"http://www.w3.org/2000/svg\" height=\"24px\" viewBox=\"0 -960 960 960\">\n",
              "    <path d=\"M120-120v-720h720v720H120Zm60-500h600v-160H180v160Zm220 220h160v-160H400v160Zm0 220h160v-160H400v160ZM180-400h160v-160H180v160Zm440 0h160v-160H620v160ZM180-180h160v-160H180v160Zm440 0h160v-160H620v160Z\"/>\n",
              "  </svg>\n",
              "    </button>\n",
              "\n",
              "  <style>\n",
              "    .colab-df-container {\n",
              "      display:flex;\n",
              "      gap: 12px;\n",
              "    }\n",
              "\n",
              "    .colab-df-convert {\n",
              "      background-color: #E8F0FE;\n",
              "      border: none;\n",
              "      border-radius: 50%;\n",
              "      cursor: pointer;\n",
              "      display: none;\n",
              "      fill: #1967D2;\n",
              "      height: 32px;\n",
              "      padding: 0 0 0 0;\n",
              "      width: 32px;\n",
              "    }\n",
              "\n",
              "    .colab-df-convert:hover {\n",
              "      background-color: #E2EBFA;\n",
              "      box-shadow: 0px 1px 2px rgba(60, 64, 67, 0.3), 0px 1px 3px 1px rgba(60, 64, 67, 0.15);\n",
              "      fill: #174EA6;\n",
              "    }\n",
              "\n",
              "    .colab-df-buttons div {\n",
              "      margin-bottom: 4px;\n",
              "    }\n",
              "\n",
              "    [theme=dark] .colab-df-convert {\n",
              "      background-color: #3B4455;\n",
              "      fill: #D2E3FC;\n",
              "    }\n",
              "\n",
              "    [theme=dark] .colab-df-convert:hover {\n",
              "      background-color: #434B5C;\n",
              "      box-shadow: 0px 1px 3px 1px rgba(0, 0, 0, 0.15);\n",
              "      filter: drop-shadow(0px 1px 2px rgba(0, 0, 0, 0.3));\n",
              "      fill: #FFFFFF;\n",
              "    }\n",
              "  </style>\n",
              "\n",
              "    <script>\n",
              "      const buttonEl =\n",
              "        document.querySelector('#df-2b158635-d958-4c4f-b760-fcf240c9f163 button.colab-df-convert');\n",
              "      buttonEl.style.display =\n",
              "        google.colab.kernel.accessAllowed ? 'block' : 'none';\n",
              "\n",
              "      async function convertToInteractive(key) {\n",
              "        const element = document.querySelector('#df-2b158635-d958-4c4f-b760-fcf240c9f163');\n",
              "        const dataTable =\n",
              "          await google.colab.kernel.invokeFunction('convertToInteractive',\n",
              "                                                    [key], {});\n",
              "        if (!dataTable) return;\n",
              "\n",
              "        const docLinkHtml = 'Like what you see? Visit the ' +\n",
              "          '<a target=\"_blank\" href=https://colab.research.google.com/notebooks/data_table.ipynb>data table notebook</a>'\n",
              "          + ' to learn more about interactive tables.';\n",
              "        element.innerHTML = '';\n",
              "        dataTable['output_type'] = 'display_data';\n",
              "        await google.colab.output.renderOutput(dataTable, element);\n",
              "        const docLink = document.createElement('div');\n",
              "        docLink.innerHTML = docLinkHtml;\n",
              "        element.appendChild(docLink);\n",
              "      }\n",
              "    </script>\n",
              "  </div>\n",
              "\n",
              "\n",
              "<div id=\"df-1953d99c-df92-41f3-9506-112c36021164\">\n",
              "  <button class=\"colab-df-quickchart\" onclick=\"quickchart('df-1953d99c-df92-41f3-9506-112c36021164')\"\n",
              "            title=\"Suggest charts.\"\n",
              "            style=\"display:none;\">\n",
              "\n",
              "<svg xmlns=\"http://www.w3.org/2000/svg\" height=\"24px\"viewBox=\"0 0 24 24\"\n",
              "     width=\"24px\">\n",
              "    <g>\n",
              "        <path d=\"M19 3H5c-1.1 0-2 .9-2 2v14c0 1.1.9 2 2 2h14c1.1 0 2-.9 2-2V5c0-1.1-.9-2-2-2zM9 17H7v-7h2v7zm4 0h-2V7h2v10zm4 0h-2v-4h2v4z\"/>\n",
              "    </g>\n",
              "</svg>\n",
              "  </button>\n",
              "\n",
              "<style>\n",
              "  .colab-df-quickchart {\n",
              "    background-color: #E8F0FE;\n",
              "    border: none;\n",
              "    border-radius: 50%;\n",
              "    cursor: pointer;\n",
              "    display: none;\n",
              "    fill: #1967D2;\n",
              "    height: 32px;\n",
              "    padding: 0 0 0 0;\n",
              "    width: 32px;\n",
              "  }\n",
              "\n",
              "  .colab-df-quickchart:hover {\n",
              "    background-color: #E2EBFA;\n",
              "    box-shadow: 0px 1px 2px rgba(60, 64, 67, 0.3), 0px 1px 3px 1px rgba(60, 64, 67, 0.15);\n",
              "    fill: #174EA6;\n",
              "  }\n",
              "\n",
              "  [theme=dark] .colab-df-quickchart {\n",
              "    background-color: #3B4455;\n",
              "    fill: #D2E3FC;\n",
              "  }\n",
              "\n",
              "  [theme=dark] .colab-df-quickchart:hover {\n",
              "    background-color: #434B5C;\n",
              "    box-shadow: 0px 1px 3px 1px rgba(0, 0, 0, 0.15);\n",
              "    filter: drop-shadow(0px 1px 2px rgba(0, 0, 0, 0.3));\n",
              "    fill: #FFFFFF;\n",
              "  }\n",
              "</style>\n",
              "\n",
              "  <script>\n",
              "    async function quickchart(key) {\n",
              "      const charts = await google.colab.kernel.invokeFunction(\n",
              "          'suggestCharts', [key], {});\n",
              "    }\n",
              "    (() => {\n",
              "      let quickchartButtonEl =\n",
              "        document.querySelector('#df-1953d99c-df92-41f3-9506-112c36021164 button');\n",
              "      quickchartButtonEl.style.display =\n",
              "        google.colab.kernel.accessAllowed ? 'block' : 'none';\n",
              "    })();\n",
              "  </script>\n",
              "</div>\n",
              "    </div>\n",
              "  </div>\n"
            ]
          },
          "metadata": {},
          "execution_count": 3
        }
      ]
    },
    {
      "cell_type": "code",
      "source": [
        "# Visualize temp information on plot scatters\n",
        "plt.figure(figsize=(10,7))\n",
        "# Plot temperature data\n",
        "plt.scatter(df['Index'], df['Pressure'], c='g', s=4, label=\"Pressure\")\n",
        "# Plot title\n",
        "plt.title(\"Pressure (Pa)\")\n",
        "# Show the plot\n",
        "plt.show()"
      ],
      "metadata": {
        "colab": {
          "base_uri": "https://localhost:8080/",
          "height": 622
        },
        "id": "xTCeCa4UKK_l",
        "outputId": "cfe61373-ef8f-400a-f23b-fd23a93e2738"
      },
      "execution_count": 4,
      "outputs": [
        {
          "output_type": "display_data",
          "data": {
            "text/plain": [
              "<Figure size 1000x700 with 1 Axes>"
            ],
            "image/png": "[encoded data removed]"
          },
          "metadata": {}
        }
      ]
    },
    {
      "cell_type": "markdown",
      "source": [
        "## 2. Preparing data"
      ],
      "metadata": {
        "id": "901EsaaIrbNO"
      }
    },
    {
      "cell_type": "code",
      "source": [
        "# Convert temperature and pressure to arrays\n",
        "X_numpy = df['Pressure'].to_numpy()\n",
        "\n",
        "X_numpy"
      ],
      "metadata": {
        "colab": {
          "base_uri": "https://localhost:8080/"
        },
        "id": "66WvPyDXO-Q-",
        "outputId": "bedd5fa8-a107-4dfe-a89c-fbba95f1637b"
      },
      "execution_count": 5,
      "outputs": [
        {
          "output_type": "execute_result",
          "data": {
            "text/plain": [
              "array([86434.94, 86435.55, 86435.55, 86434.63, 86434.33, 86434.63,\n",
              "       86434.63, 86433.41, 86433.72, 86434.63, 86434.63, 86434.33,\n",
              "       86434.02, 86434.33, 86434.63, 86434.63, 86434.33, 86434.02,\n",
              "       86434.33, 86434.33, 86433.72, 86434.02, 86434.63, 86434.94,\n",
              "       86434.94, 86434.63, 86434.02, 86433.41, 86433.72, 86434.63,\n",
              "       86434.63, 86434.33, 86434.33, 86434.63, 86435.24, 86435.55,\n",
              "       86434.94, 86434.33, 86434.94, 86435.55, 86434.63, 86434.02,\n",
              "       86434.02, 86434.63, 86435.24, 86435.55, 86434.94, 86434.63,\n",
              "       86434.33, 86434.02, 86434.02, 86434.02, 86433.72, 86433.72,\n",
              "       86434.63, 86434.94, 86434.63, 86434.33, 86434.02, 86433.72,\n",
              "       86434.02, 86435.24, 86435.55, 86434.63, 86434.33, 86434.63,\n",
              "       86434.63, 86434.02, 86434.63, 86435.55, 86435.24, 86434.63,\n",
              "       86434.94, 86435.24, 86435.24, 86434.94, 86434.63, 86434.33,\n",
              "       86434.63, 86435.24, 86435.24, 86434.63, 86434.33, 86434.63,\n",
              "       86434.63, 86434.33, 86434.33, 86433.47, 86433.9 , 86434.84,\n",
              "       86434.57, 86433.76, 86434.65, 86434.98, 86434.54, 86435.21,\n",
              "       86434.38, 86435.45, 86434.07, 86434.86, 86434.04, 86434.99,\n",
              "       86433.74, 86434.83, 86433.47, 86435.11, 86434.06, 86435.12,\n",
              "       86433.57, 86435.22, 86433.84, 86433.96, 86435.26, 86434.94,\n",
              "       86433.56, 86433.89, 86435.02, 86435.04, 86435.13, 86435.2 ,\n",
              "       86434.81, 86435.42, 86434.24, 86434.33, 86434.09, 86435.23,\n",
              "       86433.85, 86433.74, 86433.96, 86434.12, 86434.22, 86434.39,\n",
              "       86434.82, 86435.37, 86434.17, 86435.19, 86434.49, 86435.37,\n",
              "       86434.59, 86435.48, 86435.44, 86434.41, 86433.98, 86433.9 ,\n",
              "       86435.43, 86434.52, 86434.23, 86433.47, 86435.52, 86434.77,\n",
              "       86433.94, 86434.68, 86434.59, 86433.86, 86435.28, 86435.34,\n",
              "       86434.06, 86435.36, 86434.65, 86433.58, 86433.69, 86435.4 ,\n",
              "       86435.43, 86434.21, 86433.55, 86435.55, 86434.5 , 86433.57,\n",
              "       86434.15, 86433.52, 86433.8 , 86435.03, 86434.  , 86435.45,\n",
              "       86434.53, 86435.32, 86435.24, 86434.78, 86434.36, 86433.84,\n",
              "       86433.84, 86434.17, 86434.72, 86433.66, 86434.32, 86433.47,\n",
              "       86434.23, 86435.1 , 86434.84, 86435.02, 86433.42, 86433.96,\n",
              "       86433.57, 86433.48, 86434.22, 86435.21, 86434.17, 86433.55,\n",
              "       86433.63, 86433.7 ])"
            ]
          },
          "metadata": {},
          "execution_count": 5
        }
      ]
    },
    {
      "cell_type": "code",
      "source": [
        "# Randomize\n",
        "np.random.shuffle(X_numpy)\n",
        "X_numpy"
      ],
      "metadata": {
        "colab": {
          "base_uri": "https://localhost:8080/"
        },
        "id": "UmdTorL_xJBo",
        "outputId": "d4c2d82f-0cd1-44a5-af7e-ce4d658fbbc9"
      },
      "execution_count": 6,
      "outputs": [
        {
          "output_type": "execute_result",
          "data": {
            "text/plain": [
              "array([86435.12, 86433.72, 86434.33, 86434.63, 86433.72, 86434.5 ,\n",
              "       86435.55, 86434.94, 86434.99, 86434.33, 86435.19, 86434.33,\n",
              "       86434.33, 86435.45, 86435.45, 86435.2 , 86435.55, 86434.33,\n",
              "       86435.55, 86435.55, 86433.72, 86434.33, 86434.38, 86434.21,\n",
              "       86433.85, 86433.9 , 86434.12, 86433.42, 86433.57, 86433.98,\n",
              "       86434.63, 86434.59, 86433.76, 86433.96, 86433.47, 86434.63,\n",
              "       86434.02, 86434.33, 86434.02, 86434.39, 86433.41, 86434.82,\n",
              "       86435.24, 86434.02, 86434.94, 86434.63, 86433.7 , 86434.02,\n",
              "       86435.4 , 86434.33, 86434.17, 86434.63, 86434.49, 86434.94,\n",
              "       86433.74, 86434.02, 86434.94, 86435.52, 86433.86, 86434.33,\n",
              "       86434.72, 86434.63, 86433.72, 86434.94, 86433.69, 86435.24,\n",
              "       86433.56, 86433.72, 86434.  , 86434.02, 86434.86, 86434.98,\n",
              "       86434.68, 86435.13, 86435.43, 86434.63, 86435.55, 86434.24,\n",
              "       86435.28, 86433.41, 86433.57, 86435.55, 86435.03, 86434.33,\n",
              "       86434.65, 86433.47, 86434.02, 86433.57, 86434.33, 86434.65,\n",
              "       86433.9 , 86434.33, 86433.55, 86434.77, 86434.32, 86434.17,\n",
              "       86433.89, 86434.04, 86434.33, 86434.63, 86434.63, 86435.43,\n",
              "       86434.09, 86434.22, 86433.47, 86435.55, 86434.53, 86433.55,\n",
              "       86435.24, 86435.21, 86434.94, 86435.26, 86435.48, 86434.54,\n",
              "       86434.63, 86434.02, 86434.63, 86433.84, 86434.33, 86434.02,\n",
              "       86435.37, 86435.55, 86435.44, 86434.59, 86435.24, 86433.72,\n",
              "       86434.83, 86435.34, 86434.84, 86434.63, 86435.04, 86434.63,\n",
              "       86434.33, 86434.63, 86434.63, 86434.94, 86434.63, 86435.42,\n",
              "       86433.47, 86434.41, 86434.23, 86435.23, 86434.63, 86433.84,\n",
              "       86434.63, 86434.22, 86434.02, 86435.24, 86434.63, 86434.15,\n",
              "       86434.84, 86434.06, 86434.02, 86434.02, 86435.21, 86433.8 ,\n",
              "       86434.57, 86434.52, 86434.63, 86434.94, 86435.37, 86435.02,\n",
              "       86434.63, 86434.33, 86434.94, 86433.52, 86434.78, 86435.11,\n",
              "       86434.23, 86433.63, 86433.66, 86435.24, 86433.84, 86435.32,\n",
              "       86433.74, 86433.48, 86434.63, 86435.24, 86433.96, 86434.63,\n",
              "       86433.58, 86435.24, 86434.63, 86434.94, 86435.22, 86434.33,\n",
              "       86434.06, 86435.1 , 86435.24, 86434.36, 86435.02, 86434.63,\n",
              "       86434.07, 86435.36, 86433.94, 86434.81, 86434.17, 86434.63,\n",
              "       86433.96, 86434.63])"
            ]
          },
          "metadata": {},
          "execution_count": 6
        }
      ]
    },
    {
      "cell_type": "code",
      "source": [
        "# Convert temperature to torch data bc of datatype\n",
        "X_numpy.dtype"
      ],
      "metadata": {
        "colab": {
          "base_uri": "https://localhost:8080/"
        },
        "id": "5BsOC79UPaHT",
        "outputId": "55ed13f8-e57d-4538-bcd9-ddf76829a9cb"
      },
      "execution_count": 7,
      "outputs": [
        {
          "output_type": "execute_result",
          "data": {
            "text/plain": [
              "dtype('float64')"
            ]
          },
          "metadata": {},
          "execution_count": 7
        }
      ]
    },
    {
      "cell_type": "code",
      "source": [
        "X_tensor = torch.from_numpy(X_numpy)\n",
        "\n",
        "X_tensor"
      ],
      "metadata": {
        "colab": {
          "base_uri": "https://localhost:8080/"
        },
        "id": "mr_E4BPWp7vy",
        "outputId": "9c28dc7f-9207-4eb8-c617-2adcf9bf5ff9"
      },
      "execution_count": 8,
      "outputs": [
        {
          "output_type": "execute_result",
          "data": {
            "text/plain": [
              "tensor([86435.1200, 86433.7200, 86434.3300, 86434.6300, 86433.7200, 86434.5000,\n",
              "        86435.5500, 86434.9400, 86434.9900, 86434.3300, 86435.1900, 86434.3300,\n",
              "        86434.3300, 86435.4500, 86435.4500, 86435.2000, 86435.5500, 86434.3300,\n",
              "        86435.5500, 86435.5500, 86433.7200, 86434.3300, 86434.3800, 86434.2100,\n",
              "        86433.8500, 86433.9000, 86434.1200, 86433.4200, 86433.5700, 86433.9800,\n",
              "        86434.6300, 86434.5900, 86433.7600, 86433.9600, 86433.4700, 86434.6300,\n",
              "        86434.0200, 86434.3300, 86434.0200, 86434.3900, 86433.4100, 86434.8200,\n",
              "        86435.2400, 86434.0200, 86434.9400, 86434.6300, 86433.7000, 86434.0200,\n",
              "        86435.4000, 86434.3300, 86434.1700, 86434.6300, 86434.4900, 86434.9400,\n",
              "        86433.7400, 86434.0200, 86434.9400, 86435.5200, 86433.8600, 86434.3300,\n",
              "        86434.7200, 86434.6300, 86433.7200, 86434.9400, 86433.6900, 86435.2400,\n",
              "        86433.5600, 86433.7200, 86434.0000, 86434.0200, 86434.8600, 86434.9800,\n",
              "        86434.6800, 86435.1300, 86435.4300, 86434.6300, 86435.5500, 86434.2400,\n",
              "        86435.2800, 86433.4100, 86433.5700, 86435.5500, 86435.0300, 86434.3300,\n",
              "        86434.6500, 86433.4700, 86434.0200, 86433.5700, 86434.3300, 86434.6500,\n",
              "        86433.9000, 86434.3300, 86433.5500, 86434.7700, 86434.3200, 86434.1700,\n",
              "        86433.8900, 86434.0400, 86434.3300, 86434.6300, 86434.6300, 86435.4300,\n",
              "        86434.0900, 86434.2200, 86433.4700, 86435.5500, 86434.5300, 86433.5500,\n",
              "        86435.2400, 86435.2100, 86434.9400, 86435.2600, 86435.4800, 86434.5400,\n",
              "        86434.6300, 86434.0200, 86434.6300, 86433.8400, 86434.3300, 86434.0200,\n",
              "        86435.3700, 86435.5500, 86435.4400, 86434.5900, 86435.2400, 86433.7200,\n",
              "        86434.8300, 86435.3400, 86434.8400, 86434.6300, 86435.0400, 86434.6300,\n",
              "        86434.3300, 86434.6300, 86434.6300, 86434.9400, 86434.6300, 86435.4200,\n",
              "        86433.4700, 86434.4100, 86434.2300, 86435.2300, 86434.6300, 86433.8400,\n",
              "        86434.6300, 86434.2200, 86434.0200, 86435.2400, 86434.6300, 86434.1500,\n",
              "        86434.8400, 86434.0600, 86434.0200, 86434.0200, 86435.2100, 86433.8000,\n",
              "        86434.5700, 86434.5200, 86434.6300, 86434.9400, 86435.3700, 86435.0200,\n",
              "        86434.6300, 86434.3300, 86434.9400, 86433.5200, 86434.7800, 86435.1100,\n",
              "        86434.2300, 86433.6300, 86433.6600, 86435.2400, 86433.8400, 86435.3200,\n",
              "        86433.7400, 86433.4800, 86434.6300, 86435.2400, 86433.9600, 86434.6300,\n",
              "        86433.5800, 86435.2400, 86434.6300, 86434.9400, 86435.2200, 86434.3300,\n",
              "        86434.0600, 86435.1000, 86435.2400, 86434.3600, 86435.0200, 86434.6300,\n",
              "        86434.0700, 86435.3600, 86433.9400, 86434.8100, 86434.1700, 86434.6300,\n",
              "        86433.9600, 86434.6300], dtype=torch.float64)"
            ]
          },
          "metadata": {},
          "execution_count": 8
        }
      ]
    },
    {
      "cell_type": "code",
      "source": [
        "# We need to work with 32float tensors\n",
        "X = X_tensor.type(torch.float32)\n",
        "\n",
        "X.dtype"
      ],
      "metadata": {
        "colab": {
          "base_uri": "https://localhost:8080/"
        },
        "id": "jGvD--6BqRzM",
        "outputId": "3e6a90ae-892e-4ea9-b272-14cb32342dd1"
      },
      "execution_count": 9,
      "outputs": [
        {
          "output_type": "execute_result",
          "data": {
            "text/plain": [
              "torch.float32"
            ]
          },
          "metadata": {},
          "execution_count": 9
        }
      ]
    },
    {
      "cell_type": "markdown",
      "source": [
        "### 2.1 Creating baselines"
      ],
      "metadata": {
        "id": "wkpRRd_UvNyM"
      }
    },
    {
      "cell_type": "code",
      "source": [
        "# Create known parameters\n",
        "weight = 0.7\n",
        "bias = 0.3\n",
        "\n",
        "# Create model with formula\n",
        "start = 0\n",
        "end = 1\n",
        "step = 0.02\n",
        "y = weight * X + bias\n",
        "print(X[:10], y[:10])"
      ],
      "metadata": {
        "colab": {
          "base_uri": "https://localhost:8080/"
        },
        "id": "jsRJ3jJAxmws",
        "outputId": "f058909a-b460-4b98-cf1d-8314744280cb"
      },
      "execution_count": 10,
      "outputs": [
        {
          "output_type": "stream",
          "name": "stdout",
          "text": [
            "tensor([86435.1172, 86433.7188, 86434.3281, 86434.6328, 86433.7188, 86434.5000,\n",
            "        86435.5469, 86434.9375, 86434.9922, 86434.3281]) tensor([60504.8828, 60503.9023, 60504.3281, 60504.5430, 60503.9023, 60504.4492,\n",
            "        60505.1836, 60504.7578, 60504.7930, 60504.3281])\n"
          ]
        }
      ]
    },
    {
      "cell_type": "code",
      "source": [
        "len(X), len(y)"
      ],
      "metadata": {
        "colab": {
          "base_uri": "https://localhost:8080/"
        },
        "id": "1MMwijRAMPgE",
        "outputId": "2aa316a2-f128-4351-a2ea-8c14dd399c0c"
      },
      "execution_count": 11,
      "outputs": [
        {
          "output_type": "execute_result",
          "data": {
            "text/plain": [
              "(200, 200)"
            ]
          },
          "metadata": {},
          "execution_count": 11
        }
      ]
    },
    {
      "cell_type": "code",
      "source": [
        "# Create a train/test split for linear regression\n",
        "train_split = int(0.8 * len(X))\n",
        "X_train, y_train = X[:train_split], y[:train_split]\n",
        "X_test, y_test = X[train_split:], y[train_split:]\n",
        "\n",
        "len(X_train), len(y_train), len(X_test), len(y_test)"
      ],
      "metadata": {
        "colab": {
          "base_uri": "https://localhost:8080/"
        },
        "id": "6Ly6O2-IxEK7",
        "outputId": "c404acec-4865-4a08-cdbd-15bc814d0840"
      },
      "execution_count": 12,
      "outputs": [
        {
          "output_type": "execute_result",
          "data": {
            "text/plain": [
              "(160, 160, 40, 40)"
            ]
          },
          "metadata": {},
          "execution_count": 12
        }
      ]
    },
    {
      "cell_type": "markdown",
      "source": [
        "### 2.2 Visualizing the train and test data"
      ],
      "metadata": {
        "id": "i6Oox-34MYuO"
      }
    },
    {
      "cell_type": "code",
      "source": [
        "def plot_predictions(train_data,\n",
        "                     train_labels,\n",
        "                     test_data,\n",
        "                     test_labels,\n",
        "                     predictions=None,\n",
        "                     title=\"str\"):\n",
        "  \"\"\" Plots training data, test data and compares predictions \"\"\"\n",
        "  plt.figure(figsize=(10, 7))\n",
        "\n",
        "  # Plot title\n",
        "  plt.title(f\"{title}\")\n",
        "\n",
        "  # Plot training data in blue\n",
        "  plt.scatter(train_data, train_labels, c='b', s=4, label='Training data')\n",
        "\n",
        "  # Plot testing data in green\n",
        "  plt.scatter(test_data, test_labels, c='g', s=4, label='Testing data')\n",
        "\n",
        "  # Check if there are predicitions\n",
        "  if predictions is not None:\n",
        "    # Plot the predictions if they exist\n",
        "    plt.scatter(test_data, predictions, c='r', s=4, label='Predictions')\n",
        "\n",
        "  # Show the legend\n",
        "  plt.legend(prop={\"size\": 14});"
      ],
      "metadata": {
        "id": "oGjKbQlfMbk8"
      },
      "execution_count": 13,
      "outputs": []
    },
    {
      "cell_type": "code",
      "source": [
        "# For temperature\n",
        "plot_predictions(X_train, y_train, X_test, y_test, title=\"Pressure\")"
      ],
      "metadata": {
        "colab": {
          "base_uri": "https://localhost:8080/",
          "height": 640
        },
        "id": "_WKJZtWiMs_h",
        "outputId": "4ada52a8-a0af-4548-99fa-6c62d4ce4790"
      },
      "execution_count": 14,
      "outputs": [
        {
          "output_type": "display_data",
          "data": {
            "text/plain": [
              "<Figure size 1000x700 with 1 Axes>"
            ],
            "image/png": "[encoded data removed]"
          },
          "metadata": {}
        }
      ]
    },
    {
      "cell_type": "markdown",
      "source": [
        "## 3. Build a model"
      ],
      "metadata": {
        "id": "bP05cWEhOPfK"
      }
    },
    {
      "cell_type": "code",
      "source": [
        "from torch import nn\n",
        "# Create linear regression model class\n",
        "class LinearRegressionModel(nn.Module):\n",
        "  def __init__(self):\n",
        "    super().__init__()\n",
        "    self.weights = nn.Parameter(torch.randn(1,\n",
        "                                             requires_grad=True,\n",
        "                                             dtype=torch.float))\n",
        "    self.bias = nn.Parameter(torch.randn(1,\n",
        "                                          requires_grad=True,\n",
        "                                          dtype=torch.float))\n",
        "\n",
        "  # Forward method to define the computation in the model\n",
        "  def forward(self, x:torch.Tensor) -> torch.Tensor:\n",
        "    return self.weights * x + self.bias"
      ],
      "metadata": {
        "id": "IibvWLjVOywd"
      },
      "execution_count": 15,
      "outputs": []
    },
    {
      "cell_type": "code",
      "source": [
        " # Create a random seed\n",
        " torch.manual_seed(42)\n",
        "\n",
        " # Create an instance of the model (this is a subclass of nn.Module)\n",
        " model_0 = LinearRegressionModel()\n",
        "\n",
        " # Check out the parameters\n",
        " list(model_0.parameters())"
      ],
      "metadata": {
        "colab": {
          "base_uri": "https://localhost:8080/"
        },
        "id": "D-f7NQSSPQn1",
        "outputId": "99afa1ed-ba01-41e9-9540-ea9a9834ae23"
      },
      "execution_count": 16,
      "outputs": [
        {
          "output_type": "execute_result",
          "data": {
            "text/plain": [
              "[Parameter containing:\n",
              " tensor([0.3367], requires_grad=True),\n",
              " Parameter containing:\n",
              " tensor([0.1288], requires_grad=True)]"
            ]
          },
          "metadata": {},
          "execution_count": 16
        }
      ]
    },
    {
      "cell_type": "code",
      "source": [
        "# Look out what does parameters above refer to\n",
        "model_0.state_dict()"
      ],
      "metadata": {
        "colab": {
          "base_uri": "https://localhost:8080/"
        },
        "id": "spUlfs3iPmXi",
        "outputId": "c58c4f9d-a45a-4c62-db77-7ced9654b800"
      },
      "execution_count": 17,
      "outputs": [
        {
          "output_type": "execute_result",
          "data": {
            "text/plain": [
              "OrderedDict([('weights', tensor([0.3367])), ('bias', tensor([0.1288]))])"
            ]
          },
          "metadata": {},
          "execution_count": 17
        }
      ]
    },
    {
      "cell_type": "code",
      "source": [
        "# Check model device\n",
        "next(model_0.parameters()).device"
      ],
      "metadata": {
        "colab": {
          "base_uri": "https://localhost:8080/"
        },
        "id": "gSsl3nb2f-9P",
        "outputId": "622a42f8-b79c-459f-8d7c-f7ff29738c95"
      },
      "execution_count": 18,
      "outputs": [
        {
          "output_type": "execute_result",
          "data": {
            "text/plain": [
              "device(type='cpu')"
            ]
          },
          "metadata": {},
          "execution_count": 18
        }
      ]
    },
    {
      "cell_type": "code",
      "source": [
        "device = 'cuda' if torch.cuda.is_available() else 'cpu'\n",
        "print(f\"Using device: {device}\")"
      ],
      "metadata": {
        "colab": {
          "base_uri": "https://localhost:8080/"
        },
        "id": "JxASHVNcgR52",
        "outputId": "63a09a54-c17f-45b4-f56f-325287b118bd"
      },
      "execution_count": 19,
      "outputs": [
        {
          "output_type": "stream",
          "name": "stdout",
          "text": [
            "Using device: cuda\n"
          ]
        }
      ]
    },
    {
      "cell_type": "code",
      "source": [
        "# Set model to GPU if available\n",
        "model_0.to(device)\n",
        "next(model_0.parameters()).device"
      ],
      "metadata": {
        "colab": {
          "base_uri": "https://localhost:8080/"
        },
        "id": "8D8EBxYSgES5",
        "outputId": "54755503-df9f-4b66-ceaf-da4a81fb72f5"
      },
      "execution_count": 20,
      "outputs": [
        {
          "output_type": "execute_result",
          "data": {
            "text/plain": [
              "device(type='cuda', index=0)"
            ]
          },
          "metadata": {},
          "execution_count": 20
        }
      ]
    },
    {
      "cell_type": "code",
      "source": [
        "X_test"
      ],
      "metadata": {
        "colab": {
          "base_uri": "https://localhost:8080/"
        },
        "id": "SGPUH370P7vg",
        "outputId": "f081a6a3-2fb4-4fec-8377-ea2342c508cf"
      },
      "execution_count": 21,
      "outputs": [
        {
          "output_type": "execute_result",
          "data": {
            "text/plain": [
              "tensor([86435.3672, 86435.0234, 86434.6328, 86434.3281, 86434.9375, 86433.5234,\n",
              "        86434.7812, 86435.1094, 86434.2266, 86433.6328, 86433.6562, 86435.2422,\n",
              "        86433.8438, 86435.3203, 86433.7422, 86433.4766, 86434.6328, 86435.2422,\n",
              "        86433.9609, 86434.6328, 86433.5781, 86435.2422, 86434.6328, 86434.9375,\n",
              "        86435.2188, 86434.3281, 86434.0625, 86435.1016, 86435.2422, 86434.3594,\n",
              "        86435.0234, 86434.6328, 86434.0703, 86435.3594, 86433.9375, 86434.8125,\n",
              "        86434.1719, 86434.6328, 86433.9609, 86434.6328])"
            ]
          },
          "metadata": {},
          "execution_count": 21
        }
      ]
    },
    {
      "cell_type": "markdown",
      "source": [
        "## 4. Train model\n",
        "\n",
        "Go from a poor representation of the data to a better representation, which leads to less loss and more accuracy"
      ],
      "metadata": {
        "id": "bPH8ln3lQuXS"
      }
    },
    {
      "cell_type": "code",
      "source": [
        "# Check model_0 parameters\n",
        "model_0.state_dict()"
      ],
      "metadata": {
        "colab": {
          "base_uri": "https://localhost:8080/"
        },
        "id": "Xtpk1OYYRVyj",
        "outputId": "24300626-247f-46a9-cc8b-1b456919fab3"
      },
      "execution_count": 22,
      "outputs": [
        {
          "output_type": "execute_result",
          "data": {
            "text/plain": [
              "OrderedDict([('weights', tensor([0.3367], device='cuda:0')),\n",
              "             ('bias', tensor([0.1288], device='cuda:0'))])"
            ]
          },
          "metadata": {},
          "execution_count": 22
        }
      ]
    },
    {
      "cell_type": "code",
      "source": [
        "# Set up a loss functions\n",
        "loss_fn = nn.L1Loss()\n",
        "\n",
        "optimizer = torch.optim.SGD(params=model_0.parameters(),\n",
        "                            lr=0.0001)"
      ],
      "metadata": {
        "id": "d61V8aOFRe2T"
      },
      "execution_count": 23,
      "outputs": []
    },
    {
      "cell_type": "markdown",
      "source": [
        "### 4.1 Building a training loop\n",
        "0. Loop through data\n",
        "1. Forward pass (this involves data moving through our model's forward() functions) to make predictions on data - also called forward propagation\n",
        "2. Calculate the loss (compare forward pass predictions to ground truth labels)\n",
        "3. Optimize zero grad\n",
        "4. Loss backward - move backwards though the network to calculate the gradients of each of the parameters of our model with respect to the loss (backpropagation)\n",
        "5. Optimizer step - use the optimizer to adjust our model's parameters to try and improve the loss (gradient descent)"
      ],
      "metadata": {
        "id": "Amldjn23VgOD"
      }
    },
    {
      "cell_type": "code",
      "source": [
        "# Put data on available device\n",
        "# If not, error will happen\n",
        "X_train = X_train.to(device)\n",
        "X_test = X_test.to(device)\n",
        "y_train = y_train.to(device)\n",
        "y_test = y_test.to(device)"
      ],
      "metadata": {
        "id": "a2i2Vy0yjrIN"
      },
      "execution_count": 24,
      "outputs": []
    },
    {
      "cell_type": "code",
      "source": [
        "X_train.shape"
      ],
      "metadata": {
        "colab": {
          "base_uri": "https://localhost:8080/"
        },
        "id": "pbJqfeDEjd99",
        "outputId": "a6e722f2-1074-48fd-eccc-7cd6e8b0f437"
      },
      "execution_count": 25,
      "outputs": [
        {
          "output_type": "execute_result",
          "data": {
            "text/plain": [
              "torch.Size([160])"
            ]
          },
          "metadata": {},
          "execution_count": 25
        }
      ]
    },
    {
      "cell_type": "code",
      "source": [
        "# Make pre-preds\n",
        "with torch.inference_mode():\n",
        "  untrained_preds = model_0(X_test)\n",
        "\n",
        "print(f\"Lenght of predictions: {len(untrained_preds)}, Shape: {untrained_preds.shape}\")\n",
        "print(f\"Lenght of test samples: {len(X_test)}, Shape: {X_test.shape}\")\n",
        "print(f\"\\nFirst 10 predictions: \\n{untrained_preds[:10]}\")\n",
        "print(f\"\\nFirst 10 labels: \\n{y_test[:10]}\")"
      ],
      "metadata": {
        "colab": {
          "base_uri": "https://localhost:8080/"
        },
        "id": "yMnF7uwUjtvo",
        "outputId": "251e5398-6860-4e10-a87b-6e24eef94112"
      },
      "execution_count": 26,
      "outputs": [
        {
          "output_type": "stream",
          "name": "stdout",
          "text": [
            "Lenght of predictions: 40, Shape: torch.Size([40])\n",
            "Lenght of test samples: 40, Shape: torch.Size([40])\n",
            "\n",
            "First 10 predictions: \n",
            "tensor([29102.0840, 29101.9688, 29101.8379, 29101.7344, 29101.9395, 29101.4629,\n",
            "        29101.8867, 29101.9980, 29101.7012, 29101.5000], device='cuda:0')\n",
            "\n",
            "First 10 labels: \n",
            "tensor([60505.0586, 60504.8164, 60504.5430, 60504.3281, 60504.7578, 60503.7656,\n",
            "        60504.6484, 60504.8750, 60504.2578, 60503.8438], device='cuda:0')\n"
          ]
        }
      ]
    },
    {
      "cell_type": "code",
      "source": [
        "# For pressure\n",
        "plot_predictions(X_train.cpu(), y_train.cpu(), X_test.cpu(), y_test.cpu(), predictions=untrained_preds.cpu(), title=\"Pressure\")"
      ],
      "metadata": {
        "colab": {
          "base_uri": "https://localhost:8080/",
          "height": 640
        },
        "id": "zzMyQqJW02bB",
        "outputId": "e24b5290-aff0-4452-a45b-fe3208b0558c"
      },
      "execution_count": 27,
      "outputs": [
        {
          "output_type": "display_data",
          "data": {
            "text/plain": [
              "<Figure size 1000x700 with 1 Axes>"
            ],
            "image/png": "[encoded data removed]"
          },
          "metadata": {}
        }
      ]
    },
    {
      "cell_type": "code",
      "source": [
        "# Put data on available device\n",
        "# If not, error will happen\n",
        "X_train = X_train.to(device)\n",
        "X_test = X_test.to(device)\n",
        "y_train = y_train.to(device)\n",
        "y_test = y_test.to(device)"
      ],
      "metadata": {
        "id": "879HfN4A1c5z"
      },
      "execution_count": 28,
      "outputs": []
    },
    {
      "cell_type": "code",
      "source": [
        "# Building a training loop for temperature\n",
        "torch.manual_seed(42)\n",
        "# Define epochs\n",
        "epochs = 100000\n",
        "\n",
        "# Training\n",
        "# 0. Loop through the data\n",
        "for epoch in range(epochs):\n",
        "  # Training mode\n",
        "  model_0.train()\n",
        "\n",
        "  # 1. Forward pass\n",
        "  y_pred = model_0(X_train)\n",
        "\n",
        "  # 2. Calculate the loss\n",
        "  loss = loss_fn(y_pred, y_train)\n",
        "\n",
        "  # 3. Optimizer zero grad\n",
        "  optimizer.zero_grad()\n",
        "\n",
        "  # 4. Perform backpropagation\n",
        "  loss.backward()\n",
        "\n",
        "  # 5. Step the optimizer\n",
        "  optimizer.step()\n",
        "\n",
        "  # Testing mode\n",
        "  model_0.eval()\n",
        "\n",
        "  with torch.inference_mode():\n",
        "    # 1. Forward pass\n",
        "    test_pred = model_0(X_test)\n",
        "\n",
        "    # Calculate the loss\n",
        "    test_loss = loss_fn(test_pred, y_test)\n",
        "\n",
        "  if epoch % 10000 == 0:\n",
        "    print(f\"Epoch: {epoch} | Train Loss: {loss:.4f} | Test loss: {test_loss:.4f}\")\n",
        "\n",
        "    # Print model state dict (we'll visualize adjusted parameters)\n",
        "    print(model_0.state_dict())"
      ],
      "metadata": {
        "colab": {
          "base_uri": "https://localhost:8080/"
        },
        "id": "SWQ4KFQRVu6y",
        "outputId": "d3a66d8f-ffbc-4cee-a2fb-9b207e2d602a"
      },
      "execution_count": 29,
      "outputs": [
        {
          "output_type": "stream",
          "name": "stdout",
          "text": [
            "Epoch: 0 | Train Loss: 31402.6562 | Test loss: 715689.8125\n",
            "OrderedDict([('weights', tensor([8.9801], device='cuda:0')), ('bias', tensor([0.1289], device='cuda:0'))])\n",
            "Epoch: 10000 | Train Loss: 31402.6934 | Test loss: 715689.8125\n",
            "OrderedDict([('weights', tensor([8.9801], device='cuda:0')), ('bias', tensor([0.1289], device='cuda:0'))])\n",
            "Epoch: 20000 | Train Loss: 31402.6934 | Test loss: 715689.8125\n",
            "OrderedDict([('weights', tensor([8.9801], device='cuda:0')), ('bias', tensor([0.1289], device='cuda:0'))])\n",
            "Epoch: 30000 | Train Loss: 31402.6934 | Test loss: 715689.8125\n",
            "OrderedDict([('weights', tensor([8.9801], device='cuda:0')), ('bias', tensor([0.1289], device='cuda:0'))])\n",
            "Epoch: 40000 | Train Loss: 31402.6934 | Test loss: 715689.8125\n",
            "OrderedDict([('weights', tensor([8.9801], device='cuda:0')), ('bias', tensor([0.1289], device='cuda:0'))])\n",
            "Epoch: 50000 | Train Loss: 31402.6934 | Test loss: 715689.8125\n",
            "OrderedDict([('weights', tensor([8.9801], device='cuda:0')), ('bias', tensor([0.1289], device='cuda:0'))])\n",
            "Epoch: 60000 | Train Loss: 31402.6934 | Test loss: 715689.8125\n",
            "OrderedDict([('weights', tensor([8.9801], device='cuda:0')), ('bias', tensor([0.1289], device='cuda:0'))])\n",
            "Epoch: 70000 | Train Loss: 31402.6934 | Test loss: 715689.8125\n",
            "OrderedDict([('weights', tensor([8.9801], device='cuda:0')), ('bias', tensor([0.1289], device='cuda:0'))])\n",
            "Epoch: 80000 | Train Loss: 31402.6934 | Test loss: 715689.8125\n",
            "OrderedDict([('weights', tensor([8.9801], device='cuda:0')), ('bias', tensor([0.1289], device='cuda:0'))])\n",
            "Epoch: 90000 | Train Loss: 31402.6934 | Test loss: 715689.8125\n",
            "OrderedDict([('weights', tensor([8.9801], device='cuda:0')), ('bias', tensor([0.1289], device='cuda:0'))])\n"
          ]
        }
      ]
    },
    {
      "cell_type": "code",
      "source": [
        "list(model_0.parameters())"
      ],
      "metadata": {
        "colab": {
          "base_uri": "https://localhost:8080/"
        },
        "id": "AGaFGBvJrqoB",
        "outputId": "4179f7f3-0684-41a4-e1c8-70209f8934be"
      },
      "execution_count": 30,
      "outputs": [
        {
          "output_type": "execute_result",
          "data": {
            "text/plain": [
              "[Parameter containing:\n",
              " tensor([0.3367], device='cuda:0', requires_grad=True),\n",
              " Parameter containing:\n",
              " tensor([0.1288], device='cuda:0', requires_grad=True)]"
            ]
          },
          "metadata": {},
          "execution_count": 30
        }
      ]
    }
  ]
}