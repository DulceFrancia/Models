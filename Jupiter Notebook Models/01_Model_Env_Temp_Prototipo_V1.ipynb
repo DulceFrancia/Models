{
  "nbformat": 4,
  "nbformat_minor": 0,
  "metadata": {
    "colab": {
      "provenance": [],
      "gpuType": "T4"
    },
    "kernelspec": {
      "name": "python3",
      "display_name": "Python 3"
    },
    "language_info": {
      "name": "python"
    },
    "accelerator": "GPU"
  },
  "cells": [
    {
      "cell_type": "code",
      "execution_count": 1,
      "metadata": {
        "id": "atOgjiYUIBHs"
      },
      "outputs": [],
      "source": [
        "# Import Statements\n",
        "import torch\n",
        "from torch import nn\n",
        "import matplotlib.pyplot as plt\n",
        "import numpy as np"
      ]
    },
    {
      "cell_type": "markdown",
      "source": [
        "## 1. Visualizing data"
      ],
      "metadata": {
        "id": "A6gzOqWRIcLb"
      }
    },
    {
      "cell_type": "code",
      "source": [
        "import pandas as pd\n",
        "df=pd.read_csv(\"datos_df_et.csv\")\n",
        "print(df.head())"
      ],
      "metadata": {
        "colab": {
          "base_uri": "https://localhost:8080/"
        },
        "id": "f0jC4sRYIl_x",
        "outputId": "77e58da1-6a34-4da4-9ce8-55584463bb59"
      },
      "execution_count": 2,
      "outputs": [
        {
          "output_type": "stream",
          "name": "stdout",
          "text": [
            "   Index  Room Temp  Unnamed: 2\n",
            "0      1   26.06472         NaN\n",
            "1      2   26.06472         NaN\n",
            "2      3   26.07985         NaN\n",
            "3      4   26.06472         NaN\n",
            "4      5   26.06472         NaN\n"
          ]
        }
      ]
    },
    {
      "cell_type": "code",
      "source": [
        "del df['Unnamed: 2']"
      ],
      "metadata": {
        "id": "Ic2RSTkTtp9R"
      },
      "execution_count": 3,
      "outputs": []
    },
    {
      "cell_type": "code",
      "source": [
        "df"
      ],
      "metadata": {
        "colab": {
          "base_uri": "https://localhost:8080/",
          "height": 419
        },
        "id": "wVs5tzEfMp68",
        "outputId": "67e5a90e-c73b-41e8-8aac-380f0cc0a6d4"
      },
      "execution_count": 4,
      "outputs": [
        {
          "output_type": "execute_result",
          "data": {
            "text/plain": [
              "     Index  Room Temp\n",
              "0        1   26.06472\n",
              "1        2   26.06472\n",
              "2        3   26.07985\n",
              "3        4   26.06472\n",
              "4        5   26.06472\n",
              "..     ...        ...\n",
              "195    196   26.06712\n",
              "196    197   26.27514\n",
              "197    198   26.27320\n",
              "198    199   26.27481\n",
              "199    200   26.09538\n",
              "\n",
              "[200 rows x 2 columns]"
            ],
            "text/html": [
              "\n",
              "  <div id=\"df-caddc559-a9c3-4364-a0cb-faa650c01f73\" class=\"colab-df-container\">\n",
              "    <div>\n",
              "<style scoped>\n",
              "    .dataframe tbody tr th:only-of-type {\n",
              "        vertical-align: middle;\n",
              "    }\n",
              "\n",
              "    .dataframe tbody tr th {\n",
              "        vertical-align: top;\n",
              "    }\n",
              "\n",
              "    .dataframe thead th {\n",
              "        text-align: right;\n",
              "    }\n",
              "</style>\n",
              "<table border=\"1\" class=\"dataframe\">\n",
              "  <thead>\n",
              "    <tr style=\"text-align: right;\">\n",
              "      <th></th>\n",
              "      <th>Index</th>\n",
              "      <th>Room Temp</th>\n",
              "    </tr>\n",
              "  </thead>\n",
              "  <tbody>\n",
              "    <tr>\n",
              "      <th>0</th>\n",
              "      <td>1</td>\n",
              "      <td>26.06472</td>\n",
              "    </tr>\n",
              "    <tr>\n",
              "      <th>1</th>\n",
              "      <td>2</td>\n",
              "      <td>26.06472</td>\n",
              "    </tr>\n",
              "    <tr>\n",
              "      <th>2</th>\n",
              "      <td>3</td>\n",
              "      <td>26.07985</td>\n",
              "    </tr>\n",
              "    <tr>\n",
              "      <th>3</th>\n",
              "      <td>4</td>\n",
              "      <td>26.06472</td>\n",
              "    </tr>\n",
              "    <tr>\n",
              "      <th>4</th>\n",
              "      <td>5</td>\n",
              "      <td>26.06472</td>\n",
              "    </tr>\n",
              "    <tr>\n",
              "      <th>...</th>\n",
              "      <td>...</td>\n",
              "      <td>...</td>\n",
              "    </tr>\n",
              "    <tr>\n",
              "      <th>195</th>\n",
              "      <td>196</td>\n",
              "      <td>26.06712</td>\n",
              "    </tr>\n",
              "    <tr>\n",
              "      <th>196</th>\n",
              "      <td>197</td>\n",
              "      <td>26.27514</td>\n",
              "    </tr>\n",
              "    <tr>\n",
              "      <th>197</th>\n",
              "      <td>198</td>\n",
              "      <td>26.27320</td>\n",
              "    </tr>\n",
              "    <tr>\n",
              "      <th>198</th>\n",
              "      <td>199</td>\n",
              "      <td>26.27481</td>\n",
              "    </tr>\n",
              "    <tr>\n",
              "      <th>199</th>\n",
              "      <td>200</td>\n",
              "      <td>26.09538</td>\n",
              "    </tr>\n",
              "  </tbody>\n",
              "</table>\n",
              "<p>200 rows × 2 columns</p>\n",
              "</div>\n",
              "    <div class=\"colab-df-buttons\">\n",
              "\n",
              "  <div class=\"colab-df-container\">\n",
              "    <button class=\"colab-df-convert\" onclick=\"convertToInteractive('df-caddc559-a9c3-4364-a0cb-faa650c01f73')\"\n",
              "            title=\"Convert this dataframe to an interactive table.\"\n",
              "            style=\"display:none;\">\n",
              "\n",
              "  <svg xmlns=\"http://www.w3.org/2000/svg\" height=\"24px\" viewBox=\"0 -960 960 960\">\n",
              "    <path d=\"M120-120v-720h720v720H120Zm60-500h600v-160H180v160Zm220 220h160v-160H400v160Zm0 220h160v-160H400v160ZM180-400h160v-160H180v160Zm440 0h160v-160H620v160ZM180-180h160v-160H180v160Zm440 0h160v-160H620v160Z\"/>\n",
              "  </svg>\n",
              "    </button>\n",
              "\n",
              "  <style>\n",
              "    .colab-df-container {\n",
              "      display:flex;\n",
              "      gap: 12px;\n",
              "    }\n",
              "\n",
              "    .colab-df-convert {\n",
              "      background-color: #E8F0FE;\n",
              "      border: none;\n",
              "      border-radius: 50%;\n",
              "      cursor: pointer;\n",
              "      display: none;\n",
              "      fill: #1967D2;\n",
              "      height: 32px;\n",
              "      padding: 0 0 0 0;\n",
              "      width: 32px;\n",
              "    }\n",
              "\n",
              "    .colab-df-convert:hover {\n",
              "      background-color: #E2EBFA;\n",
              "      box-shadow: 0px 1px 2px rgba(60, 64, 67, 0.3), 0px 1px 3px 1px rgba(60, 64, 67, 0.15);\n",
              "      fill: #174EA6;\n",
              "    }\n",
              "\n",
              "    .colab-df-buttons div {\n",
              "      margin-bottom: 4px;\n",
              "    }\n",
              "\n",
              "    [theme=dark] .colab-df-convert {\n",
              "      background-color: #3B4455;\n",
              "      fill: #D2E3FC;\n",
              "    }\n",
              "\n",
              "    [theme=dark] .colab-df-convert:hover {\n",
              "      background-color: #434B5C;\n",
              "      box-shadow: 0px 1px 3px 1px rgba(0, 0, 0, 0.15);\n",
              "      filter: drop-shadow(0px 1px 2px rgba(0, 0, 0, 0.3));\n",
              "      fill: #FFFFFF;\n",
              "    }\n",
              "  </style>\n",
              "\n",
              "    <script>\n",
              "      const buttonEl =\n",
              "        document.querySelector('#df-caddc559-a9c3-4364-a0cb-faa650c01f73 button.colab-df-convert');\n",
              "      buttonEl.style.display =\n",
              "        google.colab.kernel.accessAllowed ? 'block' : 'none';\n",
              "\n",
              "      async function convertToInteractive(key) {\n",
              "        const element = document.querySelector('#df-caddc559-a9c3-4364-a0cb-faa650c01f73');\n",
              "        const dataTable =\n",
              "          await google.colab.kernel.invokeFunction('convertToInteractive',\n",
              "                                                    [key], {});\n",
              "        if (!dataTable) return;\n",
              "\n",
              "        const docLinkHtml = 'Like what you see? Visit the ' +\n",
              "          '<a target=\"_blank\" href=https://colab.research.google.com/notebooks/data_table.ipynb>data table notebook</a>'\n",
              "          + ' to learn more about interactive tables.';\n",
              "        element.innerHTML = '';\n",
              "        dataTable['output_type'] = 'display_data';\n",
              "        await google.colab.output.renderOutput(dataTable, element);\n",
              "        const docLink = document.createElement('div');\n",
              "        docLink.innerHTML = docLinkHtml;\n",
              "        element.appendChild(docLink);\n",
              "      }\n",
              "    </script>\n",
              "  </div>\n",
              "\n",
              "\n",
              "<div id=\"df-bee314e6-8c0d-4381-8b5d-adb1b67f22b2\">\n",
              "  <button class=\"colab-df-quickchart\" onclick=\"quickchart('df-bee314e6-8c0d-4381-8b5d-adb1b67f22b2')\"\n",
              "            title=\"Suggest charts.\"\n",
              "            style=\"display:none;\">\n",
              "\n",
              "<svg xmlns=\"http://www.w3.org/2000/svg\" height=\"24px\"viewBox=\"0 0 24 24\"\n",
              "     width=\"24px\">\n",
              "    <g>\n",
              "        <path d=\"M19 3H5c-1.1 0-2 .9-2 2v14c0 1.1.9 2 2 2h14c1.1 0 2-.9 2-2V5c0-1.1-.9-2-2-2zM9 17H7v-7h2v7zm4 0h-2V7h2v10zm4 0h-2v-4h2v4z\"/>\n",
              "    </g>\n",
              "</svg>\n",
              "  </button>\n",
              "\n",
              "<style>\n",
              "  .colab-df-quickchart {\n",
              "    background-color: #E8F0FE;\n",
              "    border: none;\n",
              "    border-radius: 50%;\n",
              "    cursor: pointer;\n",
              "    display: none;\n",
              "    fill: #1967D2;\n",
              "    height: 32px;\n",
              "    padding: 0 0 0 0;\n",
              "    width: 32px;\n",
              "  }\n",
              "\n",
              "  .colab-df-quickchart:hover {\n",
              "    background-color: #E2EBFA;\n",
              "    box-shadow: 0px 1px 2px rgba(60, 64, 67, 0.3), 0px 1px 3px 1px rgba(60, 64, 67, 0.15);\n",
              "    fill: #174EA6;\n",
              "  }\n",
              "\n",
              "  [theme=dark] .colab-df-quickchart {\n",
              "    background-color: #3B4455;\n",
              "    fill: #D2E3FC;\n",
              "  }\n",
              "\n",
              "  [theme=dark] .colab-df-quickchart:hover {\n",
              "    background-color: #434B5C;\n",
              "    box-shadow: 0px 1px 3px 1px rgba(0, 0, 0, 0.15);\n",
              "    filter: drop-shadow(0px 1px 2px rgba(0, 0, 0, 0.3));\n",
              "    fill: #FFFFFF;\n",
              "  }\n",
              "</style>\n",
              "\n",
              "  <script>\n",
              "    async function quickchart(key) {\n",
              "      const charts = await google.colab.kernel.invokeFunction(\n",
              "          'suggestCharts', [key], {});\n",
              "    }\n",
              "    (() => {\n",
              "      let quickchartButtonEl =\n",
              "        document.querySelector('#df-bee314e6-8c0d-4381-8b5d-adb1b67f22b2 button');\n",
              "      quickchartButtonEl.style.display =\n",
              "        google.colab.kernel.accessAllowed ? 'block' : 'none';\n",
              "    })();\n",
              "  </script>\n",
              "</div>\n",
              "    </div>\n",
              "  </div>\n"
            ]
          },
          "metadata": {},
          "execution_count": 4
        }
      ]
    },
    {
      "cell_type": "code",
      "source": [
        "# Visualize temp information on plot scatters\n",
        "plt.figure(figsize=(10,7))\n",
        "# Plot temperature data\n",
        "plt.scatter(df['Index'], df['Room Temp'], c='b', s=4, label=\"Temperature\")\n",
        "# Plot title\n",
        "plt.title(\"Temperature\")\n",
        "# Show the plot\n",
        "plt.show()"
      ],
      "metadata": {
        "colab": {
          "base_uri": "https://localhost:8080/",
          "height": 622
        },
        "id": "xTCeCa4UKK_l",
        "outputId": "78c083d6-1045-4212-98ce-c9397608e0ef"
      },
      "execution_count": 5,
      "outputs": [
        {
          "output_type": "display_data",
          "data": {
            "text/plain": [
              "<Figure size 1000x700 with 1 Axes>"
            ],
            "image/png": "[encoded data removed]"
          },
          "metadata": {}
        }
      ]
    },
    {
      "cell_type": "markdown",
      "source": [
        "## 2. Preparing data"
      ],
      "metadata": {
        "id": "901EsaaIrbNO"
      }
    },
    {
      "cell_type": "code",
      "source": [
        "# Convert temperature and pressure to arrays\n",
        "X_numpy = df['Room Temp'].to_numpy()\n",
        "\n",
        "X_numpy"
      ],
      "metadata": {
        "colab": {
          "base_uri": "https://localhost:8080/"
        },
        "id": "66WvPyDXO-Q-",
        "outputId": "3b3be61e-ab5b-45db-b786-f6f0600eec81"
      },
      "execution_count": 6,
      "outputs": [
        {
          "output_type": "execute_result",
          "data": {
            "text/plain": [
              "array([26.06472, 26.06472, 26.07985, 26.06472, 26.06472, 26.06472,\n",
              "       26.04984, 26.06472, 26.07985, 26.06472, 26.07985, 26.10985,\n",
              "       26.09472, 26.09472, 26.10985, 26.07985, 26.07985, 26.09472,\n",
              "       26.10985, 26.09472, 26.10985, 26.12473, 26.10985, 26.10985,\n",
              "       26.12473, 26.10985, 26.10985, 26.12473, 26.12473, 26.13985,\n",
              "       26.13985, 26.15473, 26.12473, 26.15473, 26.13985, 26.15473,\n",
              "       26.15473, 26.16985, 26.18473, 26.16985, 26.16985, 26.16985,\n",
              "       26.19986, 26.18473, 26.18473, 26.18473, 26.18473, 26.18473,\n",
              "       26.19986, 26.18473, 26.18473, 26.19986, 26.19986, 26.19986,\n",
              "       26.18473, 26.22986, 26.21473, 26.19986, 26.21473, 26.21473,\n",
              "       26.22986, 26.21473, 26.24474, 26.22986, 26.19986, 26.25986,\n",
              "       26.24474, 26.24474, 26.25986, 26.25986, 26.24474, 26.24474,\n",
              "       26.24474, 26.27474, 26.27474, 26.25986, 26.27474, 26.27474,\n",
              "       26.27474, 26.27474, 26.27474, 26.27474, 26.27474, 26.30474,\n",
              "       26.27474, 26.30474, 26.28962, 26.27697, 26.19277, 26.2022 ,\n",
              "       26.2227 , 26.11819, 26.06305, 26.26105, 26.27184, 26.20991,\n",
              "       26.26191, 26.06296, 26.09712, 26.07757, 26.08985, 26.2671 ,\n",
              "       26.21715, 26.05582, 26.12475, 26.30018, 26.27424, 26.24943,\n",
              "       26.27254, 26.27996, 26.24902, 26.24036, 26.24317, 26.27074,\n",
              "       26.21907, 26.11935, 26.05468, 26.2678 , 26.16294, 26.29652,\n",
              "       26.17772, 26.19763, 26.18578, 26.07859, 26.12722, 26.11774,\n",
              "       26.06465, 26.05653, 26.14452, 26.25022, 26.15376, 26.06001,\n",
              "       26.16573, 26.25902, 26.15629, 26.26966, 26.16452, 26.12161,\n",
              "       26.09644, 26.17043, 26.25714, 26.05195, 26.0623 , 26.12777,\n",
              "       26.26555, 26.1447 , 26.29578, 26.19623, 26.2074 , 26.05602,\n",
              "       26.07838, 26.21622, 26.11509, 26.24318, 26.0549 , 26.06637,\n",
              "       26.28222, 26.21255, 26.19265, 26.26491, 26.19144, 26.19869,\n",
              "       26.12627, 26.2547 , 26.22235, 26.14569, 26.14423, 26.22958,\n",
              "       26.19728, 26.29888, 26.19318, 26.08984, 26.21836, 26.08453,\n",
              "       26.1617 , 26.06382, 26.26351, 26.27163, 26.22759, 26.09682,\n",
              "       26.05886, 26.23692, 26.1749 , 26.06413, 26.11651, 26.1889 ,\n",
              "       26.07791, 26.10113, 26.09349, 26.28125, 26.06132, 26.10494,\n",
              "       26.21714, 26.25704, 26.20751, 26.06712, 26.27514, 26.2732 ,\n",
              "       26.27481, 26.09538])"
            ]
          },
          "metadata": {},
          "execution_count": 6
        }
      ]
    },
    {
      "cell_type": "code",
      "source": [
        "# Randomize\n",
        "np.random.shuffle(X_numpy)\n",
        "X_numpy"
      ],
      "metadata": {
        "colab": {
          "base_uri": "https://localhost:8080/"
        },
        "id": "UmdTorL_xJBo",
        "outputId": "34806e2d-7880-4c37-e738-17e16537a847"
      },
      "execution_count": 7,
      "outputs": [
        {
          "output_type": "execute_result",
          "data": {
            "text/plain": [
              "array([26.10494, 26.27481, 26.19986, 26.06472, 26.26491, 26.22958,\n",
              "       26.06465, 26.26966, 26.24474, 26.25986, 26.18473, 26.12722,\n",
              "       26.27474, 26.19623, 26.2227 , 26.19277, 26.07757, 26.27514,\n",
              "       26.10985, 26.17043, 26.18473, 26.16294, 26.10985, 26.07985,\n",
              "       26.22986, 26.19986, 26.12777, 26.22986, 26.16985, 26.18473,\n",
              "       26.19986, 26.05602, 26.19986, 26.16985, 26.12475, 26.09472,\n",
              "       26.1447 , 26.27254, 26.20751, 26.15629, 26.09712, 26.24943,\n",
              "       26.09472, 26.12473, 26.06712, 26.19986, 26.26105, 26.22235,\n",
              "       26.22986, 26.18473, 26.19763, 26.07985, 26.10985, 26.29578,\n",
              "       26.06382, 26.05886, 26.09682, 26.27474, 26.15376, 26.24474,\n",
              "       26.12161, 26.27474, 26.06001, 26.18473, 26.06132, 26.11509,\n",
              "       26.10985, 26.05653, 26.27184, 26.05468, 26.2074 , 26.2547 ,\n",
              "       26.29888, 26.21255, 26.06296, 26.27474, 26.15473, 26.27424,\n",
              "       26.05195, 26.06472, 26.07985, 26.2022 , 26.18473, 26.19318,\n",
              "       26.12473, 26.11819, 26.16985, 26.10985, 26.29652, 26.25022,\n",
              "       26.24036, 26.28222, 26.16452, 26.10985, 26.06472, 26.30474,\n",
              "       26.24318, 26.18473, 26.1889 , 26.10113, 26.19869, 26.21473,\n",
              "       26.18473, 26.24902, 26.19986, 26.19265, 26.25902, 26.25704,\n",
              "       26.11935, 26.27074, 26.2678 , 26.09472, 26.09349, 26.12473,\n",
              "       26.28125, 26.06305, 26.18473, 26.2732 , 26.15473, 26.21836,\n",
              "       26.06472, 26.14423, 26.11651, 26.22759, 26.15473, 26.27474,\n",
              "       26.07859, 26.12473, 26.24317, 26.10985, 26.23692, 26.07838,\n",
              "       26.24474, 26.07985, 26.08453, 26.21715, 26.08985, 26.18578,\n",
              "       26.21473, 26.06472, 26.19728, 26.27474, 26.27474, 26.06413,\n",
              "       26.12627, 26.19986, 26.14452, 26.09472, 26.21907, 26.25986,\n",
              "       26.21714, 26.0549 , 26.24474, 26.24474, 26.27474, 26.27474,\n",
              "       26.09538, 26.26555, 26.14569, 26.27163, 26.27697, 26.10985,\n",
              "       26.25986, 26.20991, 26.25714, 26.06472, 26.27996, 26.11774,\n",
              "       26.0623 , 26.21622, 26.15473, 26.07791, 26.30474, 26.09644,\n",
              "       26.16985, 26.13985, 26.07985, 26.28962, 26.24474, 26.26191,\n",
              "       26.05582, 26.13985, 26.17772, 26.13985, 26.16573, 26.21473,\n",
              "       26.30018, 26.25986, 26.21473, 26.1749 , 26.04984, 26.27474,\n",
              "       26.06637, 26.06472, 26.26351, 26.2671 , 26.12473, 26.08984,\n",
              "       26.1617 , 26.19144])"
            ]
          },
          "metadata": {},
          "execution_count": 7
        }
      ]
    },
    {
      "cell_type": "code",
      "source": [
        "# Convert temperature to torch data bc of datatype\n",
        "X_numpy.dtype"
      ],
      "metadata": {
        "colab": {
          "base_uri": "https://localhost:8080/"
        },
        "id": "5BsOC79UPaHT",
        "outputId": "a3eccf3d-5c80-49b1-c903-a1189692521a"
      },
      "execution_count": 8,
      "outputs": [
        {
          "output_type": "execute_result",
          "data": {
            "text/plain": [
              "dtype('float64')"
            ]
          },
          "metadata": {},
          "execution_count": 8
        }
      ]
    },
    {
      "cell_type": "code",
      "source": [
        "X_tensor = torch.from_numpy(X_numpy)\n",
        "\n",
        "X_tensor"
      ],
      "metadata": {
        "colab": {
          "base_uri": "https://localhost:8080/"
        },
        "id": "mr_E4BPWp7vy",
        "outputId": "da290755-91e2-41a0-c1d2-02150aae1990"
      },
      "execution_count": 9,
      "outputs": [
        {
          "output_type": "execute_result",
          "data": {
            "text/plain": [
              "tensor([26.1049, 26.2748, 26.1999, 26.0647, 26.2649, 26.2296, 26.0647, 26.2697,\n",
              "        26.2447, 26.2599, 26.1847, 26.1272, 26.2747, 26.1962, 26.2227, 26.1928,\n",
              "        26.0776, 26.2751, 26.1099, 26.1704, 26.1847, 26.1629, 26.1099, 26.0799,\n",
              "        26.2299, 26.1999, 26.1278, 26.2299, 26.1699, 26.1847, 26.1999, 26.0560,\n",
              "        26.1999, 26.1699, 26.1247, 26.0947, 26.1447, 26.2725, 26.2075, 26.1563,\n",
              "        26.0971, 26.2494, 26.0947, 26.1247, 26.0671, 26.1999, 26.2611, 26.2223,\n",
              "        26.2299, 26.1847, 26.1976, 26.0799, 26.1099, 26.2958, 26.0638, 26.0589,\n",
              "        26.0968, 26.2747, 26.1538, 26.2447, 26.1216, 26.2747, 26.0600, 26.1847,\n",
              "        26.0613, 26.1151, 26.1099, 26.0565, 26.2718, 26.0547, 26.2074, 26.2547,\n",
              "        26.2989, 26.2126, 26.0630, 26.2747, 26.1547, 26.2742, 26.0520, 26.0647,\n",
              "        26.0799, 26.2022, 26.1847, 26.1932, 26.1247, 26.1182, 26.1699, 26.1099,\n",
              "        26.2965, 26.2502, 26.2404, 26.2822, 26.1645, 26.1099, 26.0647, 26.3047,\n",
              "        26.2432, 26.1847, 26.1889, 26.1011, 26.1987, 26.2147, 26.1847, 26.2490,\n",
              "        26.1999, 26.1927, 26.2590, 26.2570, 26.1194, 26.2707, 26.2678, 26.0947,\n",
              "        26.0935, 26.1247, 26.2812, 26.0631, 26.1847, 26.2732, 26.1547, 26.2184,\n",
              "        26.0647, 26.1442, 26.1165, 26.2276, 26.1547, 26.2747, 26.0786, 26.1247,\n",
              "        26.2432, 26.1099, 26.2369, 26.0784, 26.2447, 26.0799, 26.0845, 26.2172,\n",
              "        26.0898, 26.1858, 26.2147, 26.0647, 26.1973, 26.2747, 26.2747, 26.0641,\n",
              "        26.1263, 26.1999, 26.1445, 26.0947, 26.2191, 26.2599, 26.2171, 26.0549,\n",
              "        26.2447, 26.2447, 26.2747, 26.2747, 26.0954, 26.2656, 26.1457, 26.2716,\n",
              "        26.2770, 26.1099, 26.2599, 26.2099, 26.2571, 26.0647, 26.2800, 26.1177,\n",
              "        26.0623, 26.2162, 26.1547, 26.0779, 26.3047, 26.0964, 26.1699, 26.1398,\n",
              "        26.0799, 26.2896, 26.2447, 26.2619, 26.0558, 26.1398, 26.1777, 26.1398,\n",
              "        26.1657, 26.2147, 26.3002, 26.2599, 26.2147, 26.1749, 26.0498, 26.2747,\n",
              "        26.0664, 26.0647, 26.2635, 26.2671, 26.1247, 26.0898, 26.1617, 26.1914],\n",
              "       dtype=torch.float64)"
            ]
          },
          "metadata": {},
          "execution_count": 9
        }
      ]
    },
    {
      "cell_type": "code",
      "source": [
        "# We need to work with 32float tensors\n",
        "X = X_tensor.type(torch.float32)\n",
        "\n",
        "X.dtype"
      ],
      "metadata": {
        "colab": {
          "base_uri": "https://localhost:8080/"
        },
        "id": "jGvD--6BqRzM",
        "outputId": "24543373-03a2-4595-cd5b-aba9378636c3"
      },
      "execution_count": 10,
      "outputs": [
        {
          "output_type": "execute_result",
          "data": {
            "text/plain": [
              "torch.float32"
            ]
          },
          "metadata": {},
          "execution_count": 10
        }
      ]
    },
    {
      "cell_type": "markdown",
      "source": [
        "### 2.1 Creating baselines"
      ],
      "metadata": {
        "id": "wkpRRd_UvNyM"
      }
    },
    {
      "cell_type": "code",
      "source": [
        "# Create known parameters\n",
        "weight = 0.7\n",
        "bias = 0.3\n",
        "\n",
        "# Create model with formula\n",
        "start = 0\n",
        "end = 1\n",
        "step = 0.02\n",
        "y = weight * X + bias\n",
        "print(X[:10], y[:10])"
      ],
      "metadata": {
        "colab": {
          "base_uri": "https://localhost:8080/"
        },
        "id": "jsRJ3jJAxmws",
        "outputId": "b774964c-9de9-41ec-944e-6bba3f25e9e2"
      },
      "execution_count": 11,
      "outputs": [
        {
          "output_type": "stream",
          "name": "stdout",
          "text": [
            "tensor([26.1049, 26.2748, 26.1999, 26.0647, 26.2649, 26.2296, 26.0646, 26.2697,\n",
            "        26.2447, 26.2599]) tensor([18.5735, 18.6924, 18.6399, 18.5453, 18.6854, 18.6607, 18.5453, 18.6888,\n",
            "        18.6713, 18.6819])\n"
          ]
        }
      ]
    },
    {
      "cell_type": "code",
      "source": [
        "len(X), len(y)"
      ],
      "metadata": {
        "colab": {
          "base_uri": "https://localhost:8080/"
        },
        "id": "1MMwijRAMPgE",
        "outputId": "da6dd341-b512-4273-dec9-cc546283b906"
      },
      "execution_count": 12,
      "outputs": [
        {
          "output_type": "execute_result",
          "data": {
            "text/plain": [
              "(200, 200)"
            ]
          },
          "metadata": {},
          "execution_count": 12
        }
      ]
    },
    {
      "cell_type": "code",
      "source": [
        "# Create a train/test split for linear regression\n",
        "train_split = int(0.8 * len(X))\n",
        "X_train, y_train = X[:train_split], y[:train_split]\n",
        "X_test, y_test = X[train_split:], y[train_split:]\n",
        "\n",
        "len(X_train), len(y_train), len(X_test), len(y_test)"
      ],
      "metadata": {
        "colab": {
          "base_uri": "https://localhost:8080/"
        },
        "id": "6Ly6O2-IxEK7",
        "outputId": "7d4d8396-501d-4c68-bcea-af936eb12721"
      },
      "execution_count": 13,
      "outputs": [
        {
          "output_type": "execute_result",
          "data": {
            "text/plain": [
              "(160, 160, 40, 40)"
            ]
          },
          "metadata": {},
          "execution_count": 13
        }
      ]
    },
    {
      "cell_type": "markdown",
      "source": [
        "### 2.2 Visualizing the train and test data"
      ],
      "metadata": {
        "id": "i6Oox-34MYuO"
      }
    },
    {
      "cell_type": "code",
      "source": [
        "def plot_predictions(train_data,\n",
        "                     train_labels,\n",
        "                     test_data,\n",
        "                     test_labels,\n",
        "                     predictions=None,\n",
        "                     title=\"str\"):\n",
        "  \"\"\" Plots training data, test data and compares predictions \"\"\"\n",
        "  plt.figure(figsize=(10, 7))\n",
        "\n",
        "  # Plot title\n",
        "  plt.title(f\"{title}\")\n",
        "\n",
        "  # Plot training data in blue\n",
        "  plt.scatter(train_data, train_labels, c='b', s=4, label='Training data')\n",
        "\n",
        "  # Plot testing data in green\n",
        "  plt.scatter(test_data, test_labels, c='g', s=4, label='Testing data')\n",
        "\n",
        "  # Check if there are predicitions\n",
        "  if predictions is not None:\n",
        "    # Plot the predictions if they exist\n",
        "    plt.scatter(test_data, predictions, c='r', s=4, label='Predictions')\n",
        "\n",
        "  # Show the legend\n",
        "  plt.legend(prop={\"size\": 14});"
      ],
      "metadata": {
        "id": "oGjKbQlfMbk8"
      },
      "execution_count": 14,
      "outputs": []
    },
    {
      "cell_type": "code",
      "source": [
        "# For temperature\n",
        "plot_predictions(X_train, y_train, X_test, y_test, title=\"Temperature\")"
      ],
      "metadata": {
        "colab": {
          "base_uri": "https://localhost:8080/",
          "height": 622
        },
        "id": "_WKJZtWiMs_h",
        "outputId": "d78bcb2c-2156-4441-cafb-ebf18e5b6078"
      },
      "execution_count": 15,
      "outputs": [
        {
          "output_type": "display_data",
          "data": {
            "text/plain": [
              "<Figure size 1000x700 with 1 Axes>"
            ],
            "image/png": "[encoded data removed]"
          },
          "metadata": {}
        }
      ]
    },
    {
      "cell_type": "markdown",
      "source": [
        "## 3. Build a model"
      ],
      "metadata": {
        "id": "bP05cWEhOPfK"
      }
    },
    {
      "cell_type": "code",
      "source": [
        "from torch import nn\n",
        "# Create linear regression model class\n",
        "class LinearRegressionModel(nn.Module):\n",
        "  def __init__(self):\n",
        "    super().__init__()\n",
        "    self.weights = nn.Parameter(torch.randn(1,\n",
        "                                             requires_grad=True,\n",
        "                                             dtype=torch.float))\n",
        "    self.bias = nn.Parameter(torch.randn(1,\n",
        "                                          requires_grad=True,\n",
        "                                          dtype=torch.float))\n",
        "\n",
        "  # Forward method to define the computation in the model\n",
        "  def forward(self, x:torch.Tensor) -> torch.Tensor:\n",
        "    return self.weights * x + self.bias"
      ],
      "metadata": {
        "id": "IibvWLjVOywd"
      },
      "execution_count": 16,
      "outputs": []
    },
    {
      "cell_type": "code",
      "source": [
        " # Create a random seed\n",
        " torch.manual_seed(42)\n",
        "\n",
        " # Create an instance of the model (this is a subclass of nn.Module)\n",
        " model_0 = LinearRegressionModel()\n",
        "\n",
        " # Check out the parameters\n",
        " list(model_0.parameters())"
      ],
      "metadata": {
        "colab": {
          "base_uri": "https://localhost:8080/"
        },
        "id": "D-f7NQSSPQn1",
        "outputId": "a606fc70-c915-4744-893f-b876414fe7f4"
      },
      "execution_count": 17,
      "outputs": [
        {
          "output_type": "execute_result",
          "data": {
            "text/plain": [
              "[Parameter containing:\n",
              " tensor([0.3367], requires_grad=True),\n",
              " Parameter containing:\n",
              " tensor([0.1288], requires_grad=True)]"
            ]
          },
          "metadata": {},
          "execution_count": 17
        }
      ]
    },
    {
      "cell_type": "code",
      "source": [
        "# Look out what does parameters above refer to\n",
        "model_0.state_dict()"
      ],
      "metadata": {
        "colab": {
          "base_uri": "https://localhost:8080/"
        },
        "id": "spUlfs3iPmXi",
        "outputId": "83dd2464-6fc0-46ea-9bf4-35c8190ff184"
      },
      "execution_count": 18,
      "outputs": [
        {
          "output_type": "execute_result",
          "data": {
            "text/plain": [
              "OrderedDict([('weights', tensor([0.3367])), ('bias', tensor([0.1288]))])"
            ]
          },
          "metadata": {},
          "execution_count": 18
        }
      ]
    },
    {
      "cell_type": "code",
      "source": [
        "# Check model device\n",
        "next(model_0.parameters()).device"
      ],
      "metadata": {
        "colab": {
          "base_uri": "https://localhost:8080/"
        },
        "id": "gSsl3nb2f-9P",
        "outputId": "9376caa6-e747-4d74-df08-61ebe7d4d85d"
      },
      "execution_count": 19,
      "outputs": [
        {
          "output_type": "execute_result",
          "data": {
            "text/plain": [
              "device(type='cpu')"
            ]
          },
          "metadata": {},
          "execution_count": 19
        }
      ]
    },
    {
      "cell_type": "code",
      "source": [
        "device = 'cuda' if torch.cuda.is_available() else 'cpu'\n",
        "print(f\"Using device: {device}\")"
      ],
      "metadata": {
        "colab": {
          "base_uri": "https://localhost:8080/"
        },
        "id": "JxASHVNcgR52",
        "outputId": "9d562c35-8fc7-4d56-f006-fa26112ca242"
      },
      "execution_count": 20,
      "outputs": [
        {
          "output_type": "stream",
          "name": "stdout",
          "text": [
            "Using device: cuda\n"
          ]
        }
      ]
    },
    {
      "cell_type": "code",
      "source": [
        "# Set model to GPU if available\n",
        "model_0.to(device)\n",
        "next(model_0.parameters()).device"
      ],
      "metadata": {
        "colab": {
          "base_uri": "https://localhost:8080/"
        },
        "id": "8D8EBxYSgES5",
        "outputId": "7d9e2a60-5026-44b8-f1f8-ba236292af86"
      },
      "execution_count": 21,
      "outputs": [
        {
          "output_type": "execute_result",
          "data": {
            "text/plain": [
              "device(type='cuda', index=0)"
            ]
          },
          "metadata": {},
          "execution_count": 21
        }
      ]
    },
    {
      "cell_type": "code",
      "source": [
        "X_test"
      ],
      "metadata": {
        "colab": {
          "base_uri": "https://localhost:8080/"
        },
        "id": "SGPUH370P7vg",
        "outputId": "40791faf-72bb-4d20-eedf-1f7d31a4b0cc"
      },
      "execution_count": 22,
      "outputs": [
        {
          "output_type": "execute_result",
          "data": {
            "text/plain": [
              "tensor([26.2770, 26.1098, 26.2599, 26.2099, 26.2571, 26.0647, 26.2800, 26.1177,\n",
              "        26.0623, 26.2162, 26.1547, 26.0779, 26.3047, 26.0964, 26.1698, 26.1399,\n",
              "        26.0798, 26.2896, 26.2447, 26.2619, 26.0558, 26.1399, 26.1777, 26.1399,\n",
              "        26.1657, 26.2147, 26.3002, 26.2599, 26.2147, 26.1749, 26.0498, 26.2747,\n",
              "        26.0664, 26.0647, 26.2635, 26.2671, 26.1247, 26.0898, 26.1617, 26.1914])"
            ]
          },
          "metadata": {},
          "execution_count": 22
        }
      ]
    },
    {
      "cell_type": "markdown",
      "source": [
        "## 4. Train model\n",
        "\n",
        "Go from a poor representation of the data to a better representation, which leads to less loss and more accuracy"
      ],
      "metadata": {
        "id": "bPH8ln3lQuXS"
      }
    },
    {
      "cell_type": "code",
      "source": [
        "# Check model_0 parameters\n",
        "model_0.state_dict()"
      ],
      "metadata": {
        "colab": {
          "base_uri": "https://localhost:8080/"
        },
        "id": "Xtpk1OYYRVyj",
        "outputId": "b7a9479c-6d6e-47bc-bb27-d4a297cea8cc"
      },
      "execution_count": 23,
      "outputs": [
        {
          "output_type": "execute_result",
          "data": {
            "text/plain": [
              "OrderedDict([('weights', tensor([0.3367], device='cuda:0')),\n",
              "             ('bias', tensor([0.1288], device='cuda:0'))])"
            ]
          },
          "metadata": {},
          "execution_count": 23
        }
      ]
    },
    {
      "cell_type": "code",
      "source": [
        "# Set up a loss functions\n",
        "loss_fn = nn.L1Loss()\n",
        "\n",
        "optimizer = torch.optim.SGD(params=model_0.parameters(),\n",
        "                            lr=0.01)"
      ],
      "metadata": {
        "id": "d61V8aOFRe2T"
      },
      "execution_count": 24,
      "outputs": []
    },
    {
      "cell_type": "markdown",
      "source": [
        "### 4.1 Building a training loop\n",
        "0. Loop through data\n",
        "1. Forward pass (this involves data moving through our model's forward() functions) to make predictions on data - also called forward propagation\n",
        "2. Calculate the loss (compare forward pass predictions to ground truth labels)\n",
        "3. Optimize zero grad\n",
        "4. Loss backward - move backwards though the network to calculate the gradients of each of the parameters of our model with respect to the loss (backpropagation)\n",
        "5. Optimizer step - use the optimizer to adjust our model's parameters to try and improve the loss (gradient descent)"
      ],
      "metadata": {
        "id": "Amldjn23VgOD"
      }
    },
    {
      "cell_type": "code",
      "source": [
        "# Put data on available device\n",
        "# If not, error will happen\n",
        "X_train = X_train.to(device)\n",
        "X_test = X_test.to(device)\n",
        "y_train = y_train.to(device)\n",
        "y_test = y_test.to(device)"
      ],
      "metadata": {
        "id": "a2i2Vy0yjrIN"
      },
      "execution_count": 25,
      "outputs": []
    },
    {
      "cell_type": "code",
      "source": [
        "X_train.shape"
      ],
      "metadata": {
        "colab": {
          "base_uri": "https://localhost:8080/"
        },
        "id": "pbJqfeDEjd99",
        "outputId": "aac8a744-b208-4ebf-efa9-67b253f2265e"
      },
      "execution_count": 26,
      "outputs": [
        {
          "output_type": "execute_result",
          "data": {
            "text/plain": [
              "torch.Size([160])"
            ]
          },
          "metadata": {},
          "execution_count": 26
        }
      ]
    },
    {
      "cell_type": "code",
      "source": [
        "# Make pre-preds\n",
        "with torch.inference_mode():\n",
        "  untrained_preds = model_0(X_test)\n",
        "\n",
        "print(f\"Lenght of predictions: {len(untrained_preds)}, Shape: {untrained_preds.shape}\")\n",
        "print(f\"Lenght of test samples: {len(X_test)}, Shape: {X_test.shape}\")\n",
        "print(f\"\\nFirst 10 predictions: \\n{untrained_preds[:10]}\")\n",
        "print(f\"\\nFirst 10 labels: \\n{y_test[:10]}\")"
      ],
      "metadata": {
        "colab": {
          "base_uri": "https://localhost:8080/"
        },
        "id": "yMnF7uwUjtvo",
        "outputId": "34a95756-0496-4f4c-af71-0ad7f09add56"
      },
      "execution_count": 27,
      "outputs": [
        {
          "output_type": "stream",
          "name": "stdout",
          "text": [
            "Lenght of predictions: 40, Shape: torch.Size([40])\n",
            "Lenght of test samples: 40, Shape: torch.Size([40])\n",
            "\n",
            "First 10 predictions: \n",
            "tensor([8.9760, 8.9197, 8.9703, 8.9534, 8.9693, 8.9045, 8.9770, 8.9224, 8.9037,\n",
            "        8.9556], device='cuda:0')\n",
            "\n",
            "First 10 labels: \n",
            "tensor([18.6939, 18.5769, 18.6819, 18.6469, 18.6800, 18.5453, 18.6960, 18.5824,\n",
            "        18.5436, 18.6514], device='cuda:0')\n"
          ]
        }
      ]
    },
    {
      "cell_type": "code",
      "source": [
        "# Building a training loop for temperature\n",
        "torch.manual_seed(42)\n",
        "# Define epochs\n",
        "epochs = 1000\n",
        "\n",
        "# Training\n",
        "# 0. Loop through the data\n",
        "for epoch in range(epochs):\n",
        "  # Training mode\n",
        "  model_0.train()\n",
        "\n",
        "  # 1. Forward pass\n",
        "  y_pred = model_0(X_train)\n",
        "\n",
        "  # 2. Calculate the loss\n",
        "  loss = loss_fn(y_pred, y_train)\n",
        "\n",
        "  # 3. Optimizer zero grad\n",
        "  optimizer.zero_grad()\n",
        "\n",
        "  # 4. Perform backpropagation\n",
        "  loss.backward()\n",
        "\n",
        "  # 5. Step the optimizer\n",
        "  optimizer.step()\n",
        "\n",
        "  # Testing mode\n",
        "  model_0.eval()\n",
        "\n",
        "  with torch.inference_mode():\n",
        "    # 1. Forward pass\n",
        "    test_pred = model_0(X_test)\n",
        "\n",
        "    # Calculate the loss\n",
        "    test_loss = loss_fn(test_pred, y_test)\n",
        "\n",
        "  if epoch % 100 == 0:\n",
        "    print(f\"Epoch: {epoch} | Train Loss: {loss:.4f} | Test loss: {test_loss:.4f}\")\n",
        "\n",
        "    # Print model state dict (we'll visualize adjusted parameters)\n",
        "    print(model_0.state_dict())"
      ],
      "metadata": {
        "colab": {
          "base_uri": "https://localhost:8080/"
        },
        "id": "SWQ4KFQRVu6y",
        "outputId": "72a9f783-9a1c-4597-85f1-cf39a993f247"
      },
      "execution_count": 28,
      "outputs": [
        {
          "output_type": "stream",
          "name": "stdout",
          "text": [
            "Epoch: 0 | Train Loss: 9.6810 | Test loss: 2.8196\n",
            "OrderedDict([('weights', tensor([0.5984], device='cuda:0')), ('bias', tensor([0.1388], device='cuda:0'))])\n",
            "Epoch: 100 | Train Loss: 4.0422 | Test loss: 2.8196\n",
            "OrderedDict([('weights', tensor([0.5984], device='cuda:0')), ('bias', tensor([0.1388], device='cuda:0'))])\n",
            "Epoch: 200 | Train Loss: 4.0422 | Test loss: 2.8196\n",
            "OrderedDict([('weights', tensor([0.5984], device='cuda:0')), ('bias', tensor([0.1388], device='cuda:0'))])\n",
            "Epoch: 300 | Train Loss: 4.0422 | Test loss: 2.8196\n",
            "OrderedDict([('weights', tensor([0.5984], device='cuda:0')), ('bias', tensor([0.1388], device='cuda:0'))])\n",
            "Epoch: 400 | Train Loss: 4.0422 | Test loss: 2.8196\n",
            "OrderedDict([('weights', tensor([0.5984], device='cuda:0')), ('bias', tensor([0.1388], device='cuda:0'))])\n",
            "Epoch: 500 | Train Loss: 4.0422 | Test loss: 2.8196\n",
            "OrderedDict([('weights', tensor([0.5984], device='cuda:0')), ('bias', tensor([0.1388], device='cuda:0'))])\n",
            "Epoch: 600 | Train Loss: 4.0422 | Test loss: 2.8196\n",
            "OrderedDict([('weights', tensor([0.5984], device='cuda:0')), ('bias', tensor([0.1388], device='cuda:0'))])\n",
            "Epoch: 700 | Train Loss: 4.0422 | Test loss: 2.8196\n",
            "OrderedDict([('weights', tensor([0.5984], device='cuda:0')), ('bias', tensor([0.1388], device='cuda:0'))])\n",
            "Epoch: 800 | Train Loss: 4.0422 | Test loss: 2.8196\n",
            "OrderedDict([('weights', tensor([0.5984], device='cuda:0')), ('bias', tensor([0.1388], device='cuda:0'))])\n",
            "Epoch: 900 | Train Loss: 4.0422 | Test loss: 2.8196\n",
            "OrderedDict([('weights', tensor([0.5984], device='cuda:0')), ('bias', tensor([0.1388], device='cuda:0'))])\n"
          ]
        }
      ]
    },
    {
      "cell_type": "code",
      "source": [
        "list(model_0.parameters())"
      ],
      "metadata": {
        "colab": {
          "base_uri": "https://localhost:8080/"
        },
        "id": "AGaFGBvJrqoB",
        "outputId": "0310347b-102f-43d7-979a-81fd63d7b575"
      },
      "execution_count": 29,
      "outputs": [
        {
          "output_type": "execute_result",
          "data": {
            "text/plain": [
              "[Parameter containing:\n",
              " tensor([0.8602], device='cuda:0', requires_grad=True),\n",
              " Parameter containing:\n",
              " tensor([0.1488], device='cuda:0', requires_grad=True)]"
            ]
          },
          "metadata": {},
          "execution_count": 29
        }
      ]
    }
  ]
}